{
 "cells": [
  {
   "cell_type": "markdown",
   "metadata": {},
   "source": [
    "## 練習時間"
   ]
  },
  {
   "cell_type": "markdown",
   "metadata": {},
   "source": [
    "請觀看台大電機李宏毅教授的影片。李教授會用非常淺顯易懂的方式介紹甚麼是機器學習。\n"
   ]
  },
  {
   "cell_type": "markdown",
   "metadata": {},
   "source": [
    "[youtube](https://www.youtube.com/watch?v=CXgbekl66jc)"
   ]
  },
  {
   "cell_type": "markdown",
   "metadata": {},
   "source": [
    "## 請找出一個你認為機器學習可以發光發熱的領域並闡述原因? \n",
    "機器學習可以透過大量的資料分析, 進而發展出預測能力,   \n",
    "預測的能力在工業環境中非常有用。通過從機器內部或表面上的多個傳感器繪製數據，機器學習算法可以「學習」機器的典型特徵，然後檢測異常狀況。  \n",
    "例如預測機器何時需要維護是非常有價值的，它將節省數百萬美元的成本。  \n",
    "Goldcorp就是一個很好的例子，它是一家採礦公司，使用巨大的車輛來運送材料。\n",
    "\n",
    "\n",
    "當這些運輸車輛出現故障時，將導致Goldcorp每天損失200萬美元。Goldcorp正在使用機器學習預測機器需要維護的時間，準確度超過百分之九十，這節省了巨大的成本。\n",
    "\n",
    "\n",
    "\n",
    "原文網址：https://kknews.cc/zh-tw/tech/lz469xz.html\n",
    "\n",
    "原文網址：https://kknews.cc/zh-tw/tech/lz469xz.html\n",
    "\n",
    "原文網址：https://kknews.cc/zh-tw/tech/lz469xz.html"
   ]
  },
  {
   "cell_type": "code",
   "execution_count": null,
   "metadata": {},
   "outputs": [],
   "source": [
    "   "
   ]
  }
 ],
 "metadata": {
  "kernelspec": {
   "display_name": "Python 3",
   "language": "python",
   "name": "python3"
  },
  "language_info": {
   "codemirror_mode": {
    "name": "ipython",
    "version": 3
   },
   "file_extension": ".py",
   "mimetype": "text/x-python",
   "name": "python",
   "nbconvert_exporter": "python",
   "pygments_lexer": "ipython3",
   "version": "3.6.5"
  }
 },
 "nbformat": 4,
 "nbformat_minor": 2
}
