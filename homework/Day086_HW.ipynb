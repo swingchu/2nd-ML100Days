{
 "cells": [
  {
   "cell_type": "markdown",
   "metadata": {},
   "source": [
    "## Work\n",
    "1. 試比較 save_best_only 與否的差異\n",
    "2. 請僅存入將 save_weights_only 設定為 True, 並嘗試 reset ipynb 並將模型與權重重新建回並預測 x_test"
   ]
  },
  {
   "cell_type": "code",
   "execution_count": 1,
   "metadata": {},
   "outputs": [
    {
     "name": "stderr",
     "output_type": "stream",
     "text": [
      "Using TensorFlow backend.\n"
     ]
    }
   ],
   "source": [
    "import os\n",
    "import keras\n",
    "\n",
    "# Disable GPU\n",
    "os.environ[\"CUDA_VISIBLE_DEVICES\"] = \"\""
   ]
  },
  {
   "cell_type": "code",
   "execution_count": 2,
   "metadata": {},
   "outputs": [],
   "source": [
    "#為了解決 model.fit 當掉問題\n",
    "import os\n",
    "os.environ[\"KMP_DUPLICATE_LIB_OK\"]=\"TRUE\""
   ]
  },
  {
   "cell_type": "code",
   "execution_count": 3,
   "metadata": {},
   "outputs": [],
   "source": [
    "train, test = keras.datasets.cifar10.load_data()"
   ]
  },
  {
   "cell_type": "code",
   "execution_count": 4,
   "metadata": {},
   "outputs": [],
   "source": [
    "## 資料前處理\n",
    "def preproc_x(x, flatten=True):\n",
    "    x = x / 255.\n",
    "    if flatten:\n",
    "        x = x.reshape((len(x), -1))\n",
    "    return x\n",
    "\n",
    "def preproc_y(y, num_classes=10):\n",
    "    if y.shape[-1] == 1:\n",
    "        y = keras.utils.to_categorical(y, num_classes)\n",
    "    return y    "
   ]
  },
  {
   "cell_type": "code",
   "execution_count": 5,
   "metadata": {},
   "outputs": [],
   "source": [
    "x_train, y_train = train\n",
    "x_test, y_test = test\n",
    "\n",
    "# Preproc the inputs\n",
    "x_train = preproc_x(x_train)\n",
    "x_test = preproc_x(x_test)\n",
    "\n",
    "# Preprc the outputs\n",
    "y_train = preproc_y(y_train)\n",
    "y_test = preproc_y(y_test)"
   ]
  },
  {
   "cell_type": "code",
   "execution_count": 10,
   "metadata": {},
   "outputs": [],
   "source": [
    "from keras.layers import BatchNormalization\n",
    "\"\"\"Code Here\n",
    "建立你的神經網路\n",
    "\"\"\"\n",
    "def build_mlp(input_shape, output_units=10, num_neurons=[256, 128, 64]):\n",
    "    input_layer = keras.layers.Input(input_shape)\n",
    "    \n",
    "    for i, n_units in enumerate(num_neurons):\n",
    "        if i == 0:\n",
    "            x = keras.layers.Dense(units=n_units, \n",
    "                                   activation=\"relu\", \n",
    "                                   name=\"hidden_layer\"+str(i+1))(input_layer)\n",
    "            x = BatchNormalization()(x)\n",
    "        else:\n",
    "            x = keras.layers.Dense(units=n_units, \n",
    "                                   activation=\"relu\", \n",
    "                                   name=\"hidden_layer\"+str(i+1))(x)\n",
    "            x = BatchNormalization()(x)\n",
    "    \n",
    "    out = keras.layers.Dense(units=output_units, activation=\"softmax\", name=\"output\")(x)\n",
    "    \n",
    "    model = keras.models.Model(inputs=[input_layer], outputs=[out])\n",
    "    return model"
   ]
  },
  {
   "cell_type": "code",
   "execution_count": 7,
   "metadata": {},
   "outputs": [],
   "source": [
    "## 超參數設定\n",
    "LEARNING_RATE = 1e-3\n",
    "EPOCHS = 50\n",
    "BATCH_SIZE = 1024\n",
    "MOMENTUM = 0.95"
   ]
  },
  {
   "cell_type": "code",
   "execution_count": 8,
   "metadata": {},
   "outputs": [],
   "source": [
    "\"\"\"\n",
    "# 載入 Callbacks, 並將監控目標設為 validation loss, 且只存最佳參數時的模型\n",
    "\"\"\"\n",
    "from keras.callbacks import ModelCheckpoint\n",
    "\n",
    "model_ckpt = ModelCheckpoint(filepath=\"./tmp.h5\", \n",
    "                             monitor=\"val_loss\", \n",
    "                             save_best_only=True)\n"
   ]
  },
  {
   "cell_type": "code",
   "execution_count": 11,
   "metadata": {},
   "outputs": [
    {
     "name": "stdout",
     "output_type": "stream",
     "text": [
      "_________________________________________________________________\n",
      "Layer (type)                 Output Shape              Param #   \n",
      "=================================================================\n",
      "input_2 (InputLayer)         (None, 3072)              0         \n",
      "_________________________________________________________________\n",
      "hidden_layer1 (Dense)        (None, 256)               786688    \n",
      "_________________________________________________________________\n",
      "batch_normalization_1 (Batch (None, 256)               1024      \n",
      "_________________________________________________________________\n",
      "hidden_layer2 (Dense)        (None, 128)               32896     \n",
      "_________________________________________________________________\n",
      "batch_normalization_2 (Batch (None, 128)               512       \n",
      "_________________________________________________________________\n",
      "hidden_layer3 (Dense)        (None, 64)                8256      \n",
      "_________________________________________________________________\n",
      "batch_normalization_3 (Batch (None, 64)                256       \n",
      "_________________________________________________________________\n",
      "output (Dense)               (None, 10)                650       \n",
      "=================================================================\n",
      "Total params: 830,282\n",
      "Trainable params: 829,386\n",
      "Non-trainable params: 896\n",
      "_________________________________________________________________\n",
      "WARNING:tensorflow:From /Volumes/Data/Anaconda/anaconda3/envs/tensorflow2/lib/python3.7/site-packages/tensorflow/python/ops/math_ops.py:3066: to_int32 (from tensorflow.python.ops.math_ops) is deprecated and will be removed in a future version.\n",
      "Instructions for updating:\n",
      "Use tf.cast instead.\n",
      "Train on 50000 samples, validate on 10000 samples\n",
      "Epoch 1/50\n",
      "50000/50000 [==============================] - 38s 758us/step - loss: 2.2151 - acc: 0.2624 - val_loss: 2.0986 - val_acc: 0.3079\n",
      "Epoch 2/50\n",
      "50000/50000 [==============================] - 17s 333us/step - loss: 1.7991 - acc: 0.3691 - val_loss: 1.8752 - val_acc: 0.3519\n",
      "Epoch 3/50\n",
      "50000/50000 [==============================] - 16s 328us/step - loss: 1.6903 - acc: 0.4078 - val_loss: 1.7462 - val_acc: 0.3862\n",
      "Epoch 4/50\n",
      "50000/50000 [==============================] - 16s 330us/step - loss: 1.6260 - acc: 0.4304 - val_loss: 1.6764 - val_acc: 0.4121\n",
      "Epoch 5/50\n",
      "50000/50000 [==============================] - 17s 342us/step - loss: 1.5805 - acc: 0.4459 - val_loss: 1.6285 - val_acc: 0.4209\n",
      "Epoch 6/50\n",
      "50000/50000 [==============================] - 18s 352us/step - loss: 1.5412 - acc: 0.4597 - val_loss: 1.6078 - val_acc: 0.4323\n",
      "Epoch 7/50\n",
      "50000/50000 [==============================] - 17s 333us/step - loss: 1.5097 - acc: 0.4703 - val_loss: 1.5802 - val_acc: 0.4364\n",
      "Epoch 8/50\n",
      "50000/50000 [==============================] - 17s 331us/step - loss: 1.4802 - acc: 0.4818 - val_loss: 1.5697 - val_acc: 0.4413\n",
      "Epoch 9/50\n",
      "50000/50000 [==============================] - 17s 334us/step - loss: 1.4552 - acc: 0.4892 - val_loss: 1.5527 - val_acc: 0.4463\n",
      "Epoch 10/50\n",
      "50000/50000 [==============================] - 17s 333us/step - loss: 1.4308 - acc: 0.4972 - val_loss: 1.5383 - val_acc: 0.4538\n",
      "Epoch 11/50\n",
      "50000/50000 [==============================] - 17s 342us/step - loss: 1.4091 - acc: 0.5050 - val_loss: 1.5297 - val_acc: 0.4573\n",
      "Epoch 12/50\n",
      "50000/50000 [==============================] - 21s 427us/step - loss: 1.3871 - acc: 0.5134 - val_loss: 1.5203 - val_acc: 0.4594\n",
      "Epoch 13/50\n",
      "50000/50000 [==============================] - 17s 339us/step - loss: 1.3671 - acc: 0.5212 - val_loss: 1.5210 - val_acc: 0.4642\n",
      "Epoch 14/50\n",
      "50000/50000 [==============================] - 16s 324us/step - loss: 1.3489 - acc: 0.5281 - val_loss: 1.5050 - val_acc: 0.4667\n",
      "Epoch 15/50\n",
      "50000/50000 [==============================] - 17s 332us/step - loss: 1.3312 - acc: 0.5342 - val_loss: 1.4933 - val_acc: 0.4698\n",
      "Epoch 16/50\n",
      "50000/50000 [==============================] - 16s 329us/step - loss: 1.3136 - acc: 0.5384 - val_loss: 1.5004 - val_acc: 0.4694\n",
      "Epoch 17/50\n",
      "50000/50000 [==============================] - 16s 326us/step - loss: 1.2974 - acc: 0.5452 - val_loss: 1.4942 - val_acc: 0.4668\n",
      "Epoch 18/50\n",
      "50000/50000 [==============================] - 17s 334us/step - loss: 1.2808 - acc: 0.5506 - val_loss: 1.4826 - val_acc: 0.4760\n",
      "Epoch 19/50\n",
      "50000/50000 [==============================] - 18s 352us/step - loss: 1.2647 - acc: 0.5573 - val_loss: 1.4879 - val_acc: 0.4753\n",
      "Epoch 20/50\n",
      "50000/50000 [==============================] - 18s 367us/step - loss: 1.2497 - acc: 0.5631 - val_loss: 1.4711 - val_acc: 0.4758\n",
      "Epoch 21/50\n",
      "50000/50000 [==============================] - 18s 351us/step - loss: 1.2340 - acc: 0.5682 - val_loss: 1.4739 - val_acc: 0.4807\n",
      "Epoch 22/50\n",
      "50000/50000 [==============================] - 17s 348us/step - loss: 1.2202 - acc: 0.5738 - val_loss: 1.4706 - val_acc: 0.4826\n",
      "Epoch 23/50\n",
      "50000/50000 [==============================] - 17s 349us/step - loss: 1.2060 - acc: 0.5771 - val_loss: 1.4665 - val_acc: 0.4844\n",
      "Epoch 24/50\n",
      "50000/50000 [==============================] - 17s 345us/step - loss: 1.1915 - acc: 0.5847 - val_loss: 1.4630 - val_acc: 0.4793\n",
      "Epoch 25/50\n",
      "50000/50000 [==============================] - 17s 343us/step - loss: 1.1790 - acc: 0.5888 - val_loss: 1.4793 - val_acc: 0.4831\n",
      "Epoch 26/50\n",
      "50000/50000 [==============================] - 22s 431us/step - loss: 1.1652 - acc: 0.5947 - val_loss: 1.4723 - val_acc: 0.4819\n",
      "Epoch 27/50\n",
      "50000/50000 [==============================] - 18s 366us/step - loss: 1.1506 - acc: 0.5985 - val_loss: 1.4715 - val_acc: 0.4872\n",
      "Epoch 28/50\n",
      "50000/50000 [==============================] - 17s 341us/step - loss: 1.1364 - acc: 0.6048 - val_loss: 1.4652 - val_acc: 0.4863\n",
      "Epoch 29/50\n",
      "50000/50000 [==============================] - 16s 329us/step - loss: 1.1246 - acc: 0.6093 - val_loss: 1.4604 - val_acc: 0.4865\n",
      "Epoch 30/50\n",
      "50000/50000 [==============================] - 16s 328us/step - loss: 1.1118 - acc: 0.6156 - val_loss: 1.4825 - val_acc: 0.4778\n",
      "Epoch 31/50\n",
      "50000/50000 [==============================] - 16s 329us/step - loss: 1.0964 - acc: 0.6195 - val_loss: 1.4743 - val_acc: 0.4865\n",
      "Epoch 32/50\n",
      "50000/50000 [==============================] - 17s 335us/step - loss: 1.0858 - acc: 0.6243 - val_loss: 1.4553 - val_acc: 0.4890\n",
      "Epoch 33/50\n",
      "50000/50000 [==============================] - 18s 359us/step - loss: 1.0726 - acc: 0.6281 - val_loss: 1.4643 - val_acc: 0.4907\n",
      "Epoch 34/50\n",
      "50000/50000 [==============================] - 17s 339us/step - loss: 1.0606 - acc: 0.6323 - val_loss: 1.4686 - val_acc: 0.4838\n",
      "Epoch 35/50\n",
      "50000/50000 [==============================] - 18s 364us/step - loss: 1.0482 - acc: 0.6377 - val_loss: 1.4680 - val_acc: 0.4911\n",
      "Epoch 36/50\n",
      "50000/50000 [==============================] - 19s 389us/step - loss: 1.0335 - acc: 0.6414 - val_loss: 1.4921 - val_acc: 0.4836\n",
      "Epoch 37/50\n",
      "50000/50000 [==============================] - 16s 312us/step - loss: 1.0230 - acc: 0.6450 - val_loss: 1.4683 - val_acc: 0.4914\n",
      "Epoch 38/50\n",
      "50000/50000 [==============================] - 15s 309us/step - loss: 1.0092 - acc: 0.6523 - val_loss: 1.4808 - val_acc: 0.4874\n",
      "Epoch 39/50\n",
      "50000/50000 [==============================] - 16s 313us/step - loss: 0.9985 - acc: 0.6555 - val_loss: 1.4843 - val_acc: 0.4842\n",
      "Epoch 40/50\n",
      "50000/50000 [==============================] - 18s 367us/step - loss: 0.9873 - acc: 0.6626 - val_loss: 1.5038 - val_acc: 0.4827\n",
      "Epoch 41/50\n",
      "50000/50000 [==============================] - 19s 372us/step - loss: 0.9744 - acc: 0.6660 - val_loss: 1.5386 - val_acc: 0.4768\n",
      "Epoch 42/50\n",
      "50000/50000 [==============================] - 16s 315us/step - loss: 0.9616 - acc: 0.6709 - val_loss: 1.5055 - val_acc: 0.4840\n",
      "Epoch 43/50\n",
      "50000/50000 [==============================] - 16s 311us/step - loss: 0.9494 - acc: 0.6742 - val_loss: 1.5034 - val_acc: 0.4875\n",
      "Epoch 44/50\n",
      "50000/50000 [==============================] - 16s 314us/step - loss: 0.9362 - acc: 0.6790 - val_loss: 1.5236 - val_acc: 0.4855\n",
      "Epoch 45/50\n",
      "50000/50000 [==============================] - 16s 312us/step - loss: 0.9277 - acc: 0.6829 - val_loss: 1.5181 - val_acc: 0.4835\n",
      "Epoch 46/50\n",
      "50000/50000 [==============================] - 16s 315us/step - loss: 0.9125 - acc: 0.6887 - val_loss: 1.5281 - val_acc: 0.4811\n",
      "Epoch 47/50\n"
     ]
    },
    {
     "name": "stdout",
     "output_type": "stream",
     "text": [
      "50000/50000 [==============================] - 16s 312us/step - loss: 0.9028 - acc: 0.6915 - val_loss: 1.5186 - val_acc: 0.4878\n",
      "Epoch 48/50\n",
      "50000/50000 [==============================] - 16s 318us/step - loss: 0.8913 - acc: 0.6943 - val_loss: 1.5295 - val_acc: 0.4859\n",
      "Epoch 49/50\n",
      "50000/50000 [==============================] - 16s 313us/step - loss: 0.8793 - acc: 0.7020 - val_loss: 1.5277 - val_acc: 0.4806\n",
      "Epoch 50/50\n",
      "50000/50000 [==============================] - 17s 332us/step - loss: 0.8665 - acc: 0.7072 - val_loss: 1.5390 - val_acc: 0.4880\n",
      "10000/10000 [==============================] - 4s 378us/step\n"
     ]
    }
   ],
   "source": [
    "results = {}\n",
    "\"\"\"Code Here\n",
    "撰寫你的訓練流程並將結果用 dictionary 紀錄\n",
    "\"\"\"\n",
    "model = build_mlp(input_shape=x_train.shape[1:])\n",
    "model.summary()\n",
    "optimizer = keras.optimizers.SGD(lr=LEARNING_RATE, nesterov=True, momentum=MOMENTUM)\n",
    "model.compile(loss=\"categorical_crossentropy\", metrics=[\"accuracy\"], optimizer=optimizer)\n",
    "\n",
    "model.fit(x_train, y_train, \n",
    "          epochs=EPOCHS, \n",
    "          batch_size=BATCH_SIZE, \n",
    "          validation_data=(x_test, y_test), \n",
    "          shuffle=True,\n",
    "          callbacks=[model_ckpt]\n",
    "         )\n",
    "\n",
    "# Collect results\n",
    "train_loss = model.history.history[\"loss\"]\n",
    "valid_loss = model.history.history[\"val_loss\"]\n",
    "train_acc = model.history.history[\"acc\"]\n",
    "valid_acc = model.history.history[\"val_acc\"]\n",
    "\n",
    "# Load back\n",
    "model = keras.models.load_model(\"./tmp.h5\")\n",
    "loss_loadback, acc_loadback = model.evaluate(x_test, y_test)"
   ]
  },
  {
   "cell_type": "code",
   "execution_count": 12,
   "metadata": {
    "scrolled": true
   },
   "outputs": [
    {
     "data": {
      "image/png": "[encoded data removed]",
      "text/plain": [
       "<Figure size 432x288 with 1 Axes>"
      ]
     },
     "metadata": {
      "needs_background": "light"
     },
     "output_type": "display_data"
    },
    {
     "data": {
      "image/png": "[encoded data removed]",
      "text/plain": [
       "<Figure size 432x288 with 1 Axes>"
      ]
     },
     "metadata": {
      "needs_background": "light"
     },
     "output_type": "display_data"
    }
   ],
   "source": [
    "\"\"\"Code Here\n",
    "將結果繪出\n",
    "\"\"\"\n",
    "import matplotlib.pyplot as plt\n",
    "%matplotlib inline\n",
    "\n",
    "plt.plot(range(len(train_loss)), train_loss, label=\"train loss\")\n",
    "plt.plot(range(len(valid_loss)), valid_loss, label=\"valid loss\")\n",
    "plt.hlines(y=loss_loadback, xmin=0, xmax=len(train_loss), colors='r', linestyles='--')\n",
    "plt.legend()\n",
    "plt.title(\"Loss\")\n",
    "plt.show()\n",
    "\n",
    "plt.plot(range(len(train_acc)), train_acc, label=\"train accuracy\")\n",
    "plt.plot(range(len(valid_acc)), valid_acc, label=\"valid accuracy\")\n",
    "plt.hlines(y=acc_loadback, xmin=0, xmax=len(train_loss), colors='r', linestyles='--')\n",
    "plt.legend()\n",
    "plt.title(\"Accuracy\")\n",
    "plt.show()"
   ]
  },
  {
   "cell_type": "markdown",
   "metadata": {},
   "source": [
    "### HW : Save/Load model\n",
    "https://morvanzhou.github.io/tutorials/machine-learning/keras/3-1-save/"
   ]
  },
  {
   "cell_type": "code",
   "execution_count": 13,
   "metadata": {},
   "outputs": [
    {
     "name": "stdout",
     "output_type": "stream",
     "text": [
      "test before save:  [[1.3725031e-02 1.5428724e-02 1.2869481e-02 8.7412047e-01 6.4847143e-03\n",
      "  3.1401999e-02 3.3360146e-02 2.5649439e-03 9.6766418e-03 3.6798281e-04]\n",
      " [2.7238596e-02 6.0035225e-02 4.8705530e-03 2.3232850e-03 1.4064383e-03\n",
      "  1.7708255e-03 1.6394641e-03 1.1810086e-03 7.2778261e-01 1.7175199e-01]]\n"
     ]
    }
   ],
   "source": [
    "# save\n",
    "print('test before save: ', model.predict(x_test[0:2]))\n",
    "model.save('my_model.h5')   # HDF5 file, you have to pip3 install h5py if don't have it\n",
    "del model  # deletes the existing model\n"
   ]
  },
  {
   "cell_type": "code",
   "execution_count": 15,
   "metadata": {},
   "outputs": [
    {
     "name": "stdout",
     "output_type": "stream",
     "text": [
      "test after load:  [[1.3725031e-02 1.5428724e-02 1.2869481e-02 8.7412047e-01 6.4847143e-03\n",
      "  3.1401999e-02 3.3360146e-02 2.5649439e-03 9.6766418e-03 3.6798281e-04]\n",
      " [2.7238596e-02 6.0035225e-02 4.8705530e-03 2.3232850e-03 1.4064383e-03\n",
      "  1.7708255e-03 1.6394641e-03 1.1810086e-03 7.2778261e-01 1.7175199e-01]]\n"
     ]
    }
   ],
   "source": [
    "# load\n",
    "from keras.models import load_model \n",
    "\n",
    "model = load_model('my_model.h5')\n",
    "print('test after load: ', model.predict(x_test[0:2]))\n"
   ]
  },
  {
   "cell_type": "code",
   "execution_count": 16,
   "metadata": {},
   "outputs": [],
   "source": [
    "# save and load weights\n",
    "model.save_weights('my_model_weights.h5')\n",
    "model.load_weights('my_model_weights.h5')"
   ]
  },
  {
   "cell_type": "code",
   "execution_count": 17,
   "metadata": {},
   "outputs": [],
   "source": [
    "# save and load fresh network without trained weights\n",
    "from keras.models import model_from_json\n",
    "json_string = model.to_json()\n",
    "model = model_from_json(json_string)"
   ]
  },
  {
   "cell_type": "code",
   "execution_count": null,
   "metadata": {},
   "outputs": [],
   "source": []
  }
 ],
 "metadata": {
  "kernelspec": {
   "display_name": "Python 3",
   "language": "python",
   "name": "python3"
  },
  "language_info": {
   "codemirror_mode": {
    "name": "ipython",
    "version": 3
   },
   "file_extension": ".py",
   "mimetype": "text/x-python",
   "name": "python",
   "nbconvert_exporter": "python",
   "pygments_lexer": "ipython3",
   "version": "3.7.3"
  }
 },
 "nbformat": 4,
 "nbformat_minor": 2
}
