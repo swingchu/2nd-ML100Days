{
 "cells": [
  {
   "cell_type": "markdown",
   "metadata": {},
   "source": [
    "## 練習時間\n",
    "相信大家對回歸問題及分類問題都有初步的了解。今天的作業希望大家搜尋有關 multi-label 的案例問題。下圖是電影 \"奇異博士\" 的分類。可以看到同時有 \"Action\", \"Adventure\", \"Fantasy\" 的類別存在，代表這是個多標籤的問題。 "
   ]
  },
  {
   "cell_type": "markdown",
   "metadata": {},
   "source": [
    "![image](https://cdn-images-1.medium.com/max/1000/1*r0gYXMSQf5VhdMyl2bRDyg.png)"
   ]
  },
  {
   "cell_type": "markdown",
   "metadata": {},
   "source": [
    "## 請搜尋目標為多標籤問題 (Multi-label) 的機器學習案例，了解其資料來源、目標以及評估指標為何\n",
    "## Hint: 服飾"
   ]
  },
  {
   "cell_type": "markdown",
   "metadata": {},
   "source": [
    "Ans => \n",
    "\n",
    "案例：新聞文章。網路新聞往往含有豐富的語義，一篇文章既可以屬於“經濟”也可以屬於“文化”。給網路新聞打多標籤可以更好地反應文章的真實意義，方便日後的分類和使用。\n",
    "\n",
    "資料來源：新聞媒體\n",
    "\n",
    "目標：根據新聞語意給予適當標籤\n",
    "\n",
    "評估指標：\n",
    "\n",
    "1. hamming loss:\n",
    "被誤分類的instance-label對的個數，（例如，不屬於這個樣本的標籤被預測，或者屬於這個樣本的標籤沒有被預測）。hloss(h)的值越小，性能越好，如果hloss(h)=0是性能最好的。\n",
    "2. one-error:\n",
    "評估top-ranked label不在樣本的真實標籤集中的次數。評估top-ranked label不在樣本的真實標籤集中的次數。值越小，性能越好,當one-error_S(f)=0時性能是最好的。\n",
    "3. coverage：\n",
    "公式表示的意思就是所有文檔中排序最靠後的真實標籤的排序平均值（rank是從1開始，所以後面減了個1）,同樣值越小性能越好。\n",
    "4. ranking loss:\n",
    "相關標籤集合與不相關標籤集合進行兩兩比較，然後統計相關標籤的預測可能性比不相關標籤額預測可能性要小的次數(樣本的標籤對被相反預測的平均分數)。其值越小性能越好。\n",
    "5. average precision:\n",
    "原始用於信息檢索系統中來評估查詢檢索的文檔排名性能。正確率值考慮了返回結果中相關文檔的個數，而沒有考慮文檔之間的序。對於一個搜索引擎或推薦系統而言返回的結果必然是有序的。而且越相關的文檔排序越靠前越好。對於一個有序的列表，計算每個位置上的precision，然後對所有位置的precision做average，如果該位置的文檔是不相關的則該位置的precison=0；\n",
    "\n",
    "參考資料：\n",
    "\n",
    "多標籤分類方法 https://www.itread01.com/content/1543650558.html\n",
    "\n",
    "評估指標 https://blog.csdn.net/yinyu19950811/article/details/82534505"
   ]
  },
  {
   "cell_type": "code",
   "execution_count": null,
   "metadata": {},
   "outputs": [],
   "source": []
  }
 ],
 "metadata": {
  "kernelspec": {
   "display_name": "Python 3",
   "language": "python",
   "name": "python3"
  },
  "language_info": {
   "codemirror_mode": {
    "name": "ipython",
    "version": 3
   },
   "file_extension": ".py",
   "mimetype": "text/x-python",
   "name": "python",
   "nbconvert_exporter": "python",
   "pygments_lexer": "ipython3",
   "version": "3.7.3"
  }
 },
 "nbformat": 4,
 "nbformat_minor": 2
}
