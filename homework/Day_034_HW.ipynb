{
 "cells": [
  {
   "cell_type": "markdown",
   "metadata": {},
   "source": [
    "## 練習時間\n",
    "假設我們資料中類別的數量並不均衡，在評估準確率時可能會有所偏頗，試著切分出 y_test 中，0 類別與 1 類別的數量是一樣的 (亦即 y_test 的類別是均衡的)"
   ]
  },
  {
   "cell_type": "code",
   "execution_count": 1,
   "metadata": {},
   "outputs": [],
   "source": [
    "import numpy as np\n",
    "X = np.arange(1000).reshape(200, 5)\n",
    "y = np.zeros(200)\n",
    "y[:40] = 1\n",
    "#print(X)"
   ]
  },
  {
   "cell_type": "code",
   "execution_count": 2,
   "metadata": {},
   "outputs": [
    {
     "name": "stdout",
     "output_type": "stream",
     "text": [
      "(40, 5)\n",
      "(40,)\n"
     ]
    }
   ],
   "source": [
    "#將 X, y 分成二組, (X1,y1)為1類別, (X0,y0)為0類別\n",
    "X1 = X[:40]\n",
    "X0 = X[40:]\n",
    "y1 = y[:40]\n",
    "y0 = y[40:]\n",
    "print(X1.shape)\n",
    "print(y1.shape)"
   ]
  },
  {
   "cell_type": "markdown",
   "metadata": {},
   "source": [
    "可以看見 y 類別中，有 160 個 類別 0，40 個 類別 1 ，請試著使用 train_test_split 函數，切分出 y_test 中能各有 10 筆類別 0 與 10 筆類別 1 。(HINT: 參考函數中的 test_size，可針對不同類別各自作切分後再合併)"
   ]
  },
  {
   "cell_type": "code",
   "execution_count": 5,
   "metadata": {},
   "outputs": [
    {
     "name": "stdout",
     "output_type": "stream",
     "text": [
      "(10, 5)\n",
      "(10,)\n"
     ]
    }
   ],
   "source": [
    "# 分割讓 y1_test 有 10個 1類別, y1_test 佔 10/40=0.25\n",
    "from sklearn.model_selection import train_test_split, KFold\n",
    "X1_train, X1_test, y1_train, y1_test = train_test_split(X1, y1, test_size=10, random_state=42)\n",
    "print(X1_test.shape)\n",
    "print(y1_test.shape)"
   ]
  },
  {
   "cell_type": "code",
   "execution_count": 6,
   "metadata": {},
   "outputs": [
    {
     "name": "stdout",
     "output_type": "stream",
     "text": [
      "(10, 5)\n",
      "(10,)\n"
     ]
    }
   ],
   "source": [
    "# 分割讓 y0_test 有 10個 0類別, y0_test 佔 10/160=0.25\n",
    "from sklearn.model_selection import train_test_split, KFold\n",
    "X0_train, X0_test, y0_train, y0_test = train_test_split(X0, y0, test_size=10, random_state=42)\n",
    "print(X0_test.shape)\n",
    "print(y0_test.shape)"
   ]
  },
  {
   "cell_type": "code",
   "execution_count": 10,
   "metadata": {},
   "outputs": [
    {
     "name": "stdout",
     "output_type": "stream",
     "text": [
      "(180, 5) (20, 5)\n",
      "(180,) (20,)\n"
     ]
    }
   ],
   "source": [
    "#合併\n",
    "X_train = np.concatenate((X1_train, X0_train),axis=0)\n",
    "X_test = np.concatenate((X1_test, X0_test), axis=0)\n",
    "y_train = np.concatenate((y1_train, y0_train), axis=0)\n",
    "y_test = np.concatenate((y1_test, y0_test), axis=0)\n",
    "print(X_train.shape, X_test.shape)\n",
    "print(y_train.shape, y_test.shape)"
   ]
  },
  {
   "cell_type": "code",
   "execution_count": null,
   "metadata": {},
   "outputs": [],
   "source": []
  }
 ],
 "metadata": {
  "kernelspec": {
   "display_name": "Python 3",
   "language": "python",
   "name": "python3"
  },
  "language_info": {
   "codemirror_mode": {
    "name": "ipython",
    "version": 3
   },
   "file_extension": ".py",
   "mimetype": "text/x-python",
   "name": "python",
   "nbconvert_exporter": "python",
   "pygments_lexer": "ipython3",
   "version": "3.7.3"
  }
 },
 "nbformat": 4,
 "nbformat_minor": 2
}
