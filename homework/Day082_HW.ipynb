{
 "cells": [
  {
   "cell_type": "markdown",
   "metadata": {},
   "source": [
    "## Work\n",
    "1. 請比較使用不同層數以及不同 Dropout rate 對訓練的效果\n",
    "2. 將 optimizer 改成使用 Adam 並加上適當的 dropout rate 檢視結果"
   ]
  },
  {
   "cell_type": "code",
   "execution_count": 1,
   "metadata": {},
   "outputs": [
    {
     "name": "stderr",
     "output_type": "stream",
     "text": [
      "Using TensorFlow backend.\n"
     ]
    }
   ],
   "source": [
    "import os\n",
    "import keras\n",
    "import itertools\n",
    "# Disable GPU\n",
    "os.environ[\"CUDA_VISIBLE_DEVICES\"] = \"\""
   ]
  },
  {
   "cell_type": "code",
   "execution_count": 2,
   "metadata": {},
   "outputs": [],
   "source": [
    "#為了解決 model.fit 當掉問題\n",
    "import os\n",
    "os.environ[\"KMP_DUPLICATE_LIB_OK\"]=\"TRUE\""
   ]
  },
  {
   "cell_type": "code",
   "execution_count": 3,
   "metadata": {},
   "outputs": [],
   "source": [
    "train, test = keras.datasets.cifar10.load_data()"
   ]
  },
  {
   "cell_type": "code",
   "execution_count": 4,
   "metadata": {},
   "outputs": [],
   "source": [
    "## 資料前處理\n",
    "def preproc_x(x, flatten=True):\n",
    "    x = x / 255.\n",
    "    if flatten:\n",
    "        x = x.reshape((len(x), -1))\n",
    "    return x\n",
    "\n",
    "def preproc_y(y, num_classes=10):\n",
    "    if y.shape[-1] == 1:\n",
    "        y = keras.utils.to_categorical(y, num_classes)\n",
    "    return y    "
   ]
  },
  {
   "cell_type": "code",
   "execution_count": 5,
   "metadata": {},
   "outputs": [],
   "source": [
    "x_train, y_train = train\n",
    "x_test, y_test = test\n",
    "\n",
    "# Preproc the inputs\n",
    "x_train = preproc_x(x_train)\n",
    "x_test = preproc_x(x_test)\n",
    "\n",
    "# Preprc the outputs\n",
    "y_train = preproc_y(y_train)\n",
    "y_test = preproc_y(y_test)"
   ]
  },
  {
   "cell_type": "code",
   "execution_count": 9,
   "metadata": {},
   "outputs": [],
   "source": [
    "\"\"\"Code Here\n",
    "建立你的神經網路\n",
    "\"\"\"\n",
    "def build_mlp(input_shape, output_units=10, num_neurons=[256, 128, 64], drp_ratio=0.2):\n",
    "    input_layer = keras.layers.Input(input_shape)\n",
    "    \n",
    "    for i, n_units in enumerate(num_neurons):\n",
    "        if i == 0:\n",
    "            x = keras.layers.Dense(units=n_units, \n",
    "                                   activation=\"relu\", \n",
    "                                   name=\"hidden_layer\"+str(i+1))(input_layer)\n",
    "            x = keras.layers.Dropout(drp_ratio)(x)\n",
    "        else:\n",
    "            x = keras.layers.Dense(units=n_units, \n",
    "                                   activation=\"relu\", \n",
    "                                   name=\"hidden_layer\"+str(i+1))(x)\n",
    "            x = keras.layers.Dropout(drp_ratio)(x)\n",
    "    \n",
    "    out = keras.layers.Dense(units=output_units, activation=\"softmax\", name=\"output\")(x)\n",
    "    \n",
    "    model = keras.models.Model(inputs=[input_layer], outputs=[out])\n",
    "    return model"
   ]
  },
  {
   "cell_type": "code",
   "execution_count": 10,
   "metadata": {},
   "outputs": [],
   "source": [
    "\"\"\"Code Here\n",
    "設定超參數\n",
    "\"\"\"\n",
    "LEARNING_RATE = 1e-3\n",
    "EPOCHS = 50\n",
    "BATCH_SIZE = 256\n",
    "MOMENTUM = 0.95\n",
    "Dropout_EXP = 0.25"
   ]
  },
  {
   "cell_type": "markdown",
   "metadata": {},
   "source": [
    "## 1. 增加層數, drop_ratio = 0.3"
   ]
  },
  {
   "cell_type": "code",
   "execution_count": 11,
   "metadata": {
    "scrolled": true
   },
   "outputs": [
    {
     "name": "stdout",
     "output_type": "stream",
     "text": [
      "WARNING:tensorflow:From /Volumes/Data/Anaconda/anaconda3/envs/tensorflow2/lib/python3.7/site-packages/keras/backend/tensorflow_backend.py:3445: calling dropout (from tensorflow.python.ops.nn_ops) with keep_prob is deprecated and will be removed in a future version.\n",
      "Instructions for updating:\n",
      "Please use `rate` instead of `keep_prob`. Rate should be set to `rate = 1 - keep_prob`.\n",
      "_________________________________________________________________\n",
      "Layer (type)                 Output Shape              Param #   \n",
      "=================================================================\n",
      "input_2 (InputLayer)         (None, 3072)              0         \n",
      "_________________________________________________________________\n",
      "hidden_layer1 (Dense)        (None, 256)               786688    \n",
      "_________________________________________________________________\n",
      "dropout_1 (Dropout)          (None, 256)               0         \n",
      "_________________________________________________________________\n",
      "hidden_layer2 (Dense)        (None, 128)               32896     \n",
      "_________________________________________________________________\n",
      "dropout_2 (Dropout)          (None, 128)               0         \n",
      "_________________________________________________________________\n",
      "hidden_layer3 (Dense)        (None, 64)                8256      \n",
      "_________________________________________________________________\n",
      "dropout_3 (Dropout)          (None, 64)                0         \n",
      "_________________________________________________________________\n",
      "hidden_layer4 (Dense)        (None, 32)                2080      \n",
      "_________________________________________________________________\n",
      "dropout_4 (Dropout)          (None, 32)                0         \n",
      "_________________________________________________________________\n",
      "output (Dense)               (None, 10)                330       \n",
      "=================================================================\n",
      "Total params: 830,250\n",
      "Trainable params: 830,250\n",
      "Non-trainable params: 0\n",
      "_________________________________________________________________\n",
      "WARNING:tensorflow:From /Volumes/Data/Anaconda/anaconda3/envs/tensorflow2/lib/python3.7/site-packages/tensorflow/python/ops/math_ops.py:3066: to_int32 (from tensorflow.python.ops.math_ops) is deprecated and will be removed in a future version.\n",
      "Instructions for updating:\n",
      "Use tf.cast instead.\n",
      "Train on 50000 samples, validate on 10000 samples\n",
      "Epoch 1/50\n",
      "50000/50000 [==============================] - 58s 1ms/step - loss: 2.3084 - acc: 0.1140 - val_loss: 2.2670 - val_acc: 0.1734\n",
      "Epoch 2/50\n",
      "50000/50000 [==============================] - 24s 487us/step - loss: 2.2487 - acc: 0.1477 - val_loss: 2.1595 - val_acc: 0.2180\n",
      "Epoch 3/50\n",
      "50000/50000 [==============================] - 23s 460us/step - loss: 2.1763 - acc: 0.1792 - val_loss: 2.0650 - val_acc: 0.2574\n",
      "Epoch 4/50\n",
      "50000/50000 [==============================] - 22s 433us/step - loss: 2.1151 - acc: 0.2022 - val_loss: 1.9935 - val_acc: 0.2910\n",
      "Epoch 5/50\n",
      "50000/50000 [==============================] - 24s 477us/step - loss: 2.0678 - acc: 0.2257 - val_loss: 1.9581 - val_acc: 0.3031\n",
      "Epoch 6/50\n",
      "50000/50000 [==============================] - 27s 537us/step - loss: 2.0317 - acc: 0.2406 - val_loss: 1.9155 - val_acc: 0.3127\n",
      "Epoch 7/50\n",
      "50000/50000 [==============================] - 23s 453us/step - loss: 2.0009 - acc: 0.2531 - val_loss: 1.8799 - val_acc: 0.3185\n",
      "Epoch 8/50\n",
      "50000/50000 [==============================] - 22s 440us/step - loss: 1.9766 - acc: 0.2647 - val_loss: 1.8651 - val_acc: 0.3300\n",
      "Epoch 9/50\n",
      "50000/50000 [==============================] - 22s 442us/step - loss: 1.9520 - acc: 0.2722 - val_loss: 1.8402 - val_acc: 0.3400\n",
      "Epoch 10/50\n",
      "50000/50000 [==============================] - 23s 452us/step - loss: 1.9323 - acc: 0.2853 - val_loss: 1.8147 - val_acc: 0.3492\n",
      "Epoch 11/50\n",
      "50000/50000 [==============================] - 23s 469us/step - loss: 1.9182 - acc: 0.2879 - val_loss: 1.7950 - val_acc: 0.3534\n",
      "Epoch 12/50\n",
      "50000/50000 [==============================] - 28s 560us/step - loss: 1.9019 - acc: 0.2941 - val_loss: 1.7779 - val_acc: 0.3637\n",
      "Epoch 13/50\n",
      "50000/50000 [==============================] - 48s 954us/step - loss: 1.8857 - acc: 0.3009 - val_loss: 1.7608 - val_acc: 0.3729\n",
      "Epoch 14/50\n",
      "50000/50000 [==============================] - 57s 1ms/step - loss: 1.8701 - acc: 0.3059 - val_loss: 1.7435 - val_acc: 0.3750\n",
      "Epoch 15/50\n",
      "50000/50000 [==============================] - 45s 896us/step - loss: 1.8585 - acc: 0.3106 - val_loss: 1.7234 - val_acc: 0.3829\n",
      "Epoch 16/50\n",
      "50000/50000 [==============================] - 35s 706us/step - loss: 1.8468 - acc: 0.3186 - val_loss: 1.7196 - val_acc: 0.3899\n",
      "Epoch 17/50\n",
      "50000/50000 [==============================] - 25s 496us/step - loss: 1.8321 - acc: 0.3217 - val_loss: 1.7124 - val_acc: 0.3879\n",
      "Epoch 18/50\n",
      "50000/50000 [==============================] - 25s 510us/step - loss: 1.8187 - acc: 0.3312 - val_loss: 1.6830 - val_acc: 0.4000\n",
      "Epoch 19/50\n",
      "50000/50000 [==============================] - 24s 487us/step - loss: 1.8101 - acc: 0.3322 - val_loss: 1.6847 - val_acc: 0.4046\n",
      "Epoch 20/50\n",
      "50000/50000 [==============================] - 25s 495us/step - loss: 1.8018 - acc: 0.3374 - val_loss: 1.6608 - val_acc: 0.4111\n",
      "Epoch 21/50\n",
      "50000/50000 [==============================] - 33s 661us/step - loss: 1.7876 - acc: 0.3399 - val_loss: 1.6499 - val_acc: 0.4106\n",
      "Epoch 22/50\n",
      "50000/50000 [==============================] - 27s 535us/step - loss: 1.7756 - acc: 0.3486 - val_loss: 1.6374 - val_acc: 0.4202\n",
      "Epoch 23/50\n",
      "50000/50000 [==============================] - 28s 568us/step - loss: 1.7706 - acc: 0.3501 - val_loss: 1.6320 - val_acc: 0.4252\n",
      "Epoch 24/50\n",
      "50000/50000 [==============================] - 49s 975us/step - loss: 1.7570 - acc: 0.3560 - val_loss: 1.6253 - val_acc: 0.4272\n",
      "Epoch 25/50\n",
      "50000/50000 [==============================] - 48s 961us/step - loss: 1.7438 - acc: 0.3603 - val_loss: 1.6188 - val_acc: 0.4319\n",
      "Epoch 26/50\n",
      "50000/50000 [==============================] - 41s 825us/step - loss: 1.7420 - acc: 0.3637 - val_loss: 1.6012 - val_acc: 0.4307\n",
      "Epoch 27/50\n",
      "50000/50000 [==============================] - 25s 497us/step - loss: 1.7295 - acc: 0.3666 - val_loss: 1.5942 - val_acc: 0.4333\n",
      "Epoch 28/50\n",
      "50000/50000 [==============================] - 24s 481us/step - loss: 1.7258 - acc: 0.3696 - val_loss: 1.5894 - val_acc: 0.4393\n",
      "Epoch 29/50\n",
      "50000/50000 [==============================] - 24s 482us/step - loss: 1.7156 - acc: 0.3731 - val_loss: 1.5843 - val_acc: 0.4359\n",
      "Epoch 30/50\n",
      "50000/50000 [==============================] - 24s 479us/step - loss: 1.7126 - acc: 0.3743 - val_loss: 1.5776 - val_acc: 0.4463\n",
      "Epoch 31/50\n",
      "50000/50000 [==============================] - 25s 497us/step - loss: 1.6980 - acc: 0.3818 - val_loss: 1.5709 - val_acc: 0.4366\n",
      "Epoch 32/50\n",
      "50000/50000 [==============================] - 24s 482us/step - loss: 1.6908 - acc: 0.3857 - val_loss: 1.5572 - val_acc: 0.4462\n",
      "Epoch 33/50\n",
      "50000/50000 [==============================] - 24s 484us/step - loss: 1.6845 - acc: 0.3867 - val_loss: 1.5631 - val_acc: 0.4476\n",
      "Epoch 34/50\n",
      "50000/50000 [==============================] - 25s 506us/step - loss: 1.6825 - acc: 0.3901 - val_loss: 1.5500 - val_acc: 0.4512\n",
      "Epoch 35/50\n",
      "50000/50000 [==============================] - 24s 478us/step - loss: 1.6702 - acc: 0.3921 - val_loss: 1.5466 - val_acc: 0.4510\n",
      "Epoch 36/50\n",
      "50000/50000 [==============================] - 24s 478us/step - loss: 1.6662 - acc: 0.3957 - val_loss: 1.5315 - val_acc: 0.4580\n",
      "Epoch 37/50\n",
      "50000/50000 [==============================] - 24s 490us/step - loss: 1.6614 - acc: 0.3959 - val_loss: 1.5348 - val_acc: 0.4573\n",
      "Epoch 38/50\n",
      "50000/50000 [==============================] - 31s 614us/step - loss: 1.6560 - acc: 0.4003 - val_loss: 1.5269 - val_acc: 0.4599\n",
      "Epoch 39/50\n",
      "50000/50000 [==============================] - 34s 674us/step - loss: 1.6486 - acc: 0.4025 - val_loss: 1.5273 - val_acc: 0.4597\n",
      "Epoch 40/50\n",
      "50000/50000 [==============================] - 26s 524us/step - loss: 1.6445 - acc: 0.4065 - val_loss: 1.5150 - val_acc: 0.4636\n",
      "Epoch 41/50\n",
      "50000/50000 [==============================] - 24s 487us/step - loss: 1.6390 - acc: 0.4066 - val_loss: 1.5135 - val_acc: 0.4630\n",
      "Epoch 42/50\n"
     ]
    },
    {
     "name": "stdout",
     "output_type": "stream",
     "text": [
      "50000/50000 [==============================] - 25s 496us/step - loss: 1.6337 - acc: 0.4073 - val_loss: 1.5239 - val_acc: 0.4598\n",
      "Epoch 43/50\n",
      "50000/50000 [==============================] - 25s 491us/step - loss: 1.6333 - acc: 0.4073 - val_loss: 1.5132 - val_acc: 0.4629\n",
      "Epoch 44/50\n",
      "50000/50000 [==============================] - 24s 485us/step - loss: 1.6242 - acc: 0.4151 - val_loss: 1.5072 - val_acc: 0.4659\n",
      "Epoch 45/50\n",
      "50000/50000 [==============================] - 24s 486us/step - loss: 1.6152 - acc: 0.4167 - val_loss: 1.5013 - val_acc: 0.4670\n",
      "Epoch 46/50\n",
      "50000/50000 [==============================] - 24s 487us/step - loss: 1.6143 - acc: 0.4190 - val_loss: 1.4944 - val_acc: 0.4674\n",
      "Epoch 47/50\n",
      "50000/50000 [==============================] - 30s 595us/step - loss: 1.6110 - acc: 0.4181 - val_loss: 1.4903 - val_acc: 0.4720\n",
      "Epoch 48/50\n",
      "50000/50000 [==============================] - 37s 731us/step - loss: 1.6075 - acc: 0.4200 - val_loss: 1.4932 - val_acc: 0.4638\n",
      "Epoch 49/50\n",
      "50000/50000 [==============================] - 25s 491us/step - loss: 1.6004 - acc: 0.4214 - val_loss: 1.4906 - val_acc: 0.4681\n",
      "Epoch 50/50\n",
      "50000/50000 [==============================] - 24s 490us/step - loss: 1.5870 - acc: 0.4296 - val_loss: 1.4806 - val_acc: 0.4717\n"
     ]
    }
   ],
   "source": [
    "\"\"\"Code Here\n",
    "撰寫你的訓練流程並將結果用 dictionary 紀錄\n",
    "\"\"\"\n",
    "model = build_mlp(input_shape=x_train.shape[1:], num_neurons=[256,128,64,32], drp_ratio=0.3)\n",
    "model.summary()\n",
    "optimizer = keras.optimizers.SGD(lr=LEARNING_RATE, nesterov=True, momentum=MOMENTUM)\n",
    "model.compile(loss=\"categorical_crossentropy\", metrics=[\"accuracy\"], optimizer=optimizer)\n",
    "\n",
    "model.fit(x_train, y_train, \n",
    "          epochs=EPOCHS, \n",
    "          batch_size=BATCH_SIZE, \n",
    "          validation_data=(x_test, y_test), \n",
    "          shuffle=True)\n",
    "\n",
    "# Collect results\n",
    "train_loss = model.history.history[\"loss\"]\n",
    "valid_loss = model.history.history[\"val_loss\"]\n",
    "train_acc = model.history.history[\"acc\"]\n",
    "valid_acc = model.history.history[\"val_acc\"]"
   ]
  },
  {
   "cell_type": "code",
   "execution_count": 12,
   "metadata": {},
   "outputs": [
    {
     "data": {
      "image/png": "[encoded data removed]",
      "text/plain": [
       "<Figure size 432x288 with 1 Axes>"
      ]
     },
     "metadata": {
      "needs_background": "light"
     },
     "output_type": "display_data"
    },
    {
     "data": {
      "image/png": "[encoded data removed]",
      "text/plain": [
       "<Figure size 432x288 with 1 Axes>"
      ]
     },
     "metadata": {
      "needs_background": "light"
     },
     "output_type": "display_data"
    }
   ],
   "source": [
    "import matplotlib.pyplot as plt\n",
    "%matplotlib inline\n",
    "\"\"\"Code Here\n",
    "將結果繪出\n",
    "\"\"\"\n",
    "plt.plot(range(len(train_loss)), train_loss, label=\"train loss\")\n",
    "plt.plot(range(len(valid_loss)), valid_loss, label=\"valid loss\")\n",
    "plt.legend()\n",
    "plt.title(\"Loss\")\n",
    "plt.show()\n",
    "\n",
    "plt.plot(range(len(train_acc)), train_acc, label=\"train accuracy\")\n",
    "plt.plot(range(len(valid_acc)), valid_acc, label=\"valid accuracy\")\n",
    "plt.legend()\n",
    "plt.title(\"Accuracy\")\n",
    "plt.show()"
   ]
  },
  {
   "cell_type": "markdown",
   "metadata": {},
   "source": [
    "## 2. 使用adam"
   ]
  },
  {
   "cell_type": "code",
   "execution_count": 13,
   "metadata": {},
   "outputs": [
    {
     "name": "stdout",
     "output_type": "stream",
     "text": [
      "_________________________________________________________________\n",
      "Layer (type)                 Output Shape              Param #   \n",
      "=================================================================\n",
      "input_3 (InputLayer)         (None, 3072)              0         \n",
      "_________________________________________________________________\n",
      "hidden_layer1 (Dense)        (None, 256)               786688    \n",
      "_________________________________________________________________\n",
      "dropout_5 (Dropout)          (None, 256)               0         \n",
      "_________________________________________________________________\n",
      "hidden_layer2 (Dense)        (None, 128)               32896     \n",
      "_________________________________________________________________\n",
      "dropout_6 (Dropout)          (None, 128)               0         \n",
      "_________________________________________________________________\n",
      "hidden_layer3 (Dense)        (None, 64)                8256      \n",
      "_________________________________________________________________\n",
      "dropout_7 (Dropout)          (None, 64)                0         \n",
      "_________________________________________________________________\n",
      "output (Dense)               (None, 10)                650       \n",
      "=================================================================\n",
      "Total params: 828,490\n",
      "Trainable params: 828,490\n",
      "Non-trainable params: 0\n",
      "_________________________________________________________________\n",
      "Train on 50000 samples, validate on 10000 samples\n",
      "Epoch 1/50\n",
      "50000/50000 [==============================] - 38s 769us/step - loss: 2.0590 - acc: 0.2363 - val_loss: 1.8527 - val_acc: 0.3286\n",
      "Epoch 2/50\n",
      "50000/50000 [==============================] - 31s 618us/step - loss: 1.8859 - acc: 0.3148 - val_loss: 1.7464 - val_acc: 0.3775\n",
      "Epoch 3/50\n",
      "50000/50000 [==============================] - 32s 641us/step - loss: 1.8295 - acc: 0.3360 - val_loss: 1.7340 - val_acc: 0.3785\n",
      "Epoch 4/50\n",
      "50000/50000 [==============================] - 31s 619us/step - loss: 1.7967 - acc: 0.3493 - val_loss: 1.6643 - val_acc: 0.3973\n",
      "Epoch 5/50\n",
      "50000/50000 [==============================] - 31s 620us/step - loss: 1.7705 - acc: 0.3604 - val_loss: 1.6621 - val_acc: 0.4128\n",
      "Epoch 6/50\n",
      "50000/50000 [==============================] - 31s 620us/step - loss: 1.7456 - acc: 0.3692 - val_loss: 1.6442 - val_acc: 0.4160\n",
      "Epoch 7/50\n",
      "50000/50000 [==============================] - 33s 669us/step - loss: 1.7257 - acc: 0.3780 - val_loss: 1.6095 - val_acc: 0.4316\n",
      "Epoch 8/50\n",
      "50000/50000 [==============================] - 37s 748us/step - loss: 1.7040 - acc: 0.3851 - val_loss: 1.6095 - val_acc: 0.4277\n",
      "Epoch 9/50\n",
      "50000/50000 [==============================] - 32s 645us/step - loss: 1.6943 - acc: 0.3889 - val_loss: 1.6052 - val_acc: 0.4269\n",
      "Epoch 10/50\n",
      "50000/50000 [==============================] - 32s 635us/step - loss: 1.6839 - acc: 0.3953 - val_loss: 1.5820 - val_acc: 0.4369\n",
      "Epoch 11/50\n",
      "50000/50000 [==============================] - 31s 629us/step - loss: 1.6724 - acc: 0.3983 - val_loss: 1.5792 - val_acc: 0.4455\n",
      "Epoch 12/50\n",
      "50000/50000 [==============================] - 32s 630us/step - loss: 1.6617 - acc: 0.4010 - val_loss: 1.5490 - val_acc: 0.4504\n",
      "Epoch 13/50\n",
      "50000/50000 [==============================] - 33s 658us/step - loss: 1.6496 - acc: 0.4055 - val_loss: 1.5653 - val_acc: 0.4407\n",
      "Epoch 14/50\n",
      "50000/50000 [==============================] - 32s 638us/step - loss: 1.6411 - acc: 0.4101 - val_loss: 1.5900 - val_acc: 0.4320\n",
      "Epoch 15/50\n",
      "50000/50000 [==============================] - 31s 623us/step - loss: 1.6411 - acc: 0.4099 - val_loss: 1.5535 - val_acc: 0.4519\n",
      "Epoch 16/50\n",
      "50000/50000 [==============================] - 34s 673us/step - loss: 1.6309 - acc: 0.4127 - val_loss: 1.5519 - val_acc: 0.4478\n",
      "Epoch 17/50\n",
      "50000/50000 [==============================] - 41s 813us/step - loss: 1.6233 - acc: 0.4179 - val_loss: 1.5470 - val_acc: 0.4418\n",
      "Epoch 18/50\n",
      "50000/50000 [==============================] - 31s 622us/step - loss: 1.6146 - acc: 0.4184 - val_loss: 1.5387 - val_acc: 0.4450\n",
      "Epoch 19/50\n",
      "50000/50000 [==============================] - 31s 616us/step - loss: 1.6052 - acc: 0.4220 - val_loss: 1.5329 - val_acc: 0.4518\n",
      "Epoch 20/50\n",
      "50000/50000 [==============================] - 31s 614us/step - loss: 1.6009 - acc: 0.4253 - val_loss: 1.5432 - val_acc: 0.4472\n",
      "Epoch 21/50\n",
      "50000/50000 [==============================] - 31s 615us/step - loss: 1.6068 - acc: 0.4208 - val_loss: 1.5128 - val_acc: 0.4560\n",
      "Epoch 22/50\n",
      "50000/50000 [==============================] - 31s 624us/step - loss: 1.6034 - acc: 0.4260 - val_loss: 1.5235 - val_acc: 0.4619\n",
      "Epoch 23/50\n",
      "50000/50000 [==============================] - 35s 691us/step - loss: 1.5871 - acc: 0.4294 - val_loss: 1.5298 - val_acc: 0.4527\n",
      "Epoch 24/50\n",
      "50000/50000 [==============================] - 43s 870us/step - loss: 1.5834 - acc: 0.4312 - val_loss: 1.5211 - val_acc: 0.4542\n",
      "Epoch 25/50\n",
      "50000/50000 [==============================] - 41s 827us/step - loss: 1.5786 - acc: 0.4327 - val_loss: 1.5087 - val_acc: 0.4620\n",
      "Epoch 26/50\n",
      "50000/50000 [==============================] - 31s 618us/step - loss: 1.5725 - acc: 0.4364 - val_loss: 1.4975 - val_acc: 0.4629\n",
      "Epoch 27/50\n",
      "50000/50000 [==============================] - 31s 621us/step - loss: 1.5644 - acc: 0.4370 - val_loss: 1.5033 - val_acc: 0.4638\n",
      "Epoch 28/50\n",
      "50000/50000 [==============================] - 33s 651us/step - loss: 1.5695 - acc: 0.4357 - val_loss: 1.5030 - val_acc: 0.4657\n",
      "Epoch 29/50\n",
      "50000/50000 [==============================] - 34s 682us/step - loss: 1.5693 - acc: 0.4376 - val_loss: 1.5041 - val_acc: 0.4602\n",
      "Epoch 30/50\n",
      "50000/50000 [==============================] - 31s 620us/step - loss: 1.5659 - acc: 0.4382 - val_loss: 1.5112 - val_acc: 0.4577\n",
      "Epoch 31/50\n",
      "50000/50000 [==============================] - 31s 611us/step - loss: 1.5612 - acc: 0.4392 - val_loss: 1.5108 - val_acc: 0.4625\n",
      "Epoch 32/50\n",
      "50000/50000 [==============================] - 31s 630us/step - loss: 1.5596 - acc: 0.4419 - val_loss: 1.4888 - val_acc: 0.4715\n",
      "Epoch 33/50\n",
      "50000/50000 [==============================] - 34s 671us/step - loss: 1.5448 - acc: 0.4432 - val_loss: 1.4830 - val_acc: 0.4759\n",
      "Epoch 34/50\n",
      "50000/50000 [==============================] - 34s 678us/step - loss: 1.5462 - acc: 0.4441 - val_loss: 1.4823 - val_acc: 0.4678\n",
      "Epoch 35/50\n",
      "50000/50000 [==============================] - 33s 667us/step - loss: 1.5420 - acc: 0.4454 - val_loss: 1.5328 - val_acc: 0.4612\n",
      "Epoch 36/50\n",
      "50000/50000 [==============================] - 33s 665us/step - loss: 1.5402 - acc: 0.4467 - val_loss: 1.4852 - val_acc: 0.4715\n",
      "Epoch 37/50\n",
      "50000/50000 [==============================] - 34s 675us/step - loss: 1.5323 - acc: 0.4503 - val_loss: 1.4858 - val_acc: 0.4684\n",
      "Epoch 38/50\n",
      "50000/50000 [==============================] - 38s 762us/step - loss: 1.5325 - acc: 0.4484 - val_loss: 1.4744 - val_acc: 0.4776\n",
      "Epoch 39/50\n",
      "50000/50000 [==============================] - 36s 725us/step - loss: 1.5333 - acc: 0.4505 - val_loss: 1.4868 - val_acc: 0.4734\n",
      "Epoch 40/50\n",
      "50000/50000 [==============================] - 35s 701us/step - loss: 1.5326 - acc: 0.4476 - val_loss: 1.4754 - val_acc: 0.4745\n",
      "Epoch 41/50\n",
      "50000/50000 [==============================] - 34s 690us/step - loss: 1.5289 - acc: 0.4497 - val_loss: 1.4694 - val_acc: 0.4728\n",
      "Epoch 42/50\n",
      "50000/50000 [==============================] - 33s 663us/step - loss: 1.5226 - acc: 0.4538 - val_loss: 1.4729 - val_acc: 0.4679\n",
      "Epoch 43/50\n",
      "50000/50000 [==============================] - 33s 658us/step - loss: 1.5146 - acc: 0.4570 - val_loss: 1.4725 - val_acc: 0.4805\n",
      "Epoch 44/50\n",
      "50000/50000 [==============================] - 34s 674us/step - loss: 1.5141 - acc: 0.4575 - val_loss: 1.4593 - val_acc: 0.4825\n",
      "Epoch 45/50\n",
      "50000/50000 [==============================] - 36s 723us/step - loss: 1.5114 - acc: 0.4578 - val_loss: 1.4729 - val_acc: 0.4726\n",
      "Epoch 46/50\n",
      "50000/50000 [==============================] - 31s 620us/step - loss: 1.5129 - acc: 0.4550 - val_loss: 1.5001 - val_acc: 0.4713\n",
      "Epoch 47/50\n",
      "50000/50000 [==============================] - 31s 610us/step - loss: 1.5068 - acc: 0.4587 - val_loss: 1.4605 - val_acc: 0.4794\n",
      "Epoch 48/50\n",
      "50000/50000 [==============================] - 31s 619us/step - loss: 1.4975 - acc: 0.4616 - val_loss: 1.4636 - val_acc: 0.4786\n",
      "Epoch 49/50\n"
     ]
    },
    {
     "name": "stdout",
     "output_type": "stream",
     "text": [
      "50000/50000 [==============================] - 34s 674us/step - loss: 1.5076 - acc: 0.4601 - val_loss: 1.4457 - val_acc: 0.4826\n",
      "Epoch 50/50\n",
      "50000/50000 [==============================] - 33s 655us/step - loss: 1.5011 - acc: 0.4624 - val_loss: 1.4497 - val_acc: 0.4784\n"
     ]
    }
   ],
   "source": [
    "\"\"\"Code Here\n",
    "撰寫你的訓練流程並將結果用 dictionary 紀錄\n",
    "\"\"\"\n",
    "model = build_mlp(input_shape=x_train.shape[1:])\n",
    "model.summary()\n",
    "model.compile(loss=\"categorical_crossentropy\", metrics=[\"accuracy\"], optimizer='adam')\n",
    "\n",
    "model.fit(x_train, y_train, \n",
    "          epochs=EPOCHS, \n",
    "          batch_size=BATCH_SIZE, \n",
    "          validation_data=(x_test, y_test), \n",
    "          shuffle=True)\n",
    "\n",
    "# Collect results\n",
    "train_loss = model.history.history[\"loss\"]\n",
    "valid_loss = model.history.history[\"val_loss\"]\n",
    "train_acc = model.history.history[\"acc\"]\n",
    "valid_acc = model.history.history[\"val_acc\"]"
   ]
  },
  {
   "cell_type": "code",
   "execution_count": 14,
   "metadata": {},
   "outputs": [
    {
     "data": {
      "image/png": "[encoded data removed]",
      "text/plain": [
       "<Figure size 432x288 with 1 Axes>"
      ]
     },
     "metadata": {
      "needs_background": "light"
     },
     "output_type": "display_data"
    },
    {
     "data": {
      "image/png": "[encoded data removed]",
      "text/plain": [
       "<Figure size 432x288 with 1 Axes>"
      ]
     },
     "metadata": {
      "needs_background": "light"
     },
     "output_type": "display_data"
    }
   ],
   "source": [
    "import matplotlib.pyplot as plt\n",
    "%matplotlib inline\n",
    "\"\"\"Code Here\n",
    "將結果繪出\n",
    "\"\"\"\n",
    "plt.plot(range(len(train_loss)), train_loss, label=\"train loss\")\n",
    "plt.plot(range(len(valid_loss)), valid_loss, label=\"valid loss\")\n",
    "plt.legend()\n",
    "plt.title(\"Loss\")\n",
    "plt.show()\n",
    "\n",
    "plt.plot(range(len(train_acc)), train_acc, label=\"train accuracy\")\n",
    "plt.plot(range(len(valid_acc)), valid_acc, label=\"valid accuracy\")\n",
    "plt.legend()\n",
    "plt.title(\"Accuracy\")\n",
    "plt.show()"
   ]
  },
  {
   "cell_type": "code",
   "execution_count": null,
   "metadata": {},
   "outputs": [],
   "source": []
  }
 ],
 "metadata": {
  "kernelspec": {
   "display_name": "Python 3",
   "language": "python",
   "name": "python3"
  },
  "language_info": {
   "codemirror_mode": {
    "name": "ipython",
    "version": 3
   },
   "file_extension": ".py",
   "mimetype": "text/x-python",
   "name": "python",
   "nbconvert_exporter": "python",
   "pygments_lexer": "ipython3",
   "version": "3.7.3"
  }
 },
 "nbformat": 4,
 "nbformat_minor": 2
}
