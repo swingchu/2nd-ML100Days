{
 "cells": [
  {
   "cell_type": "markdown",
   "metadata": {},
   "source": [
    "## Work\n",
    "1. 請嘗試將 preproc_x 替換成以每筆資料的 min/max 進行標準化至 -1 ~ 1 間，再進行訓練\n",
    "2. 請嘗試將 mlp 疊更深 (e.g 5~10 層)，進行訓練後觀察 learning curve 的走勢\n",
    "3. (optional) 請改用 GPU 進行訓練 (如果你有 GPU 的話)，比較使用 CPU 與 GPU 的訓練速度"
   ]
  },
  {
   "cell_type": "code",
   "execution_count": 1,
   "metadata": {},
   "outputs": [
    {
     "data": {
      "text/plain": [
       "'\\nYour code here (optional)\\n確認硬體資源\\n'"
      ]
     },
     "execution_count": 1,
     "metadata": {},
     "output_type": "execute_result"
    }
   ],
   "source": [
    "## \n",
    "\"\"\"\n",
    "Your code here (optional)\n",
    "確認硬體資源\n",
    "\"\"\"\n"
   ]
  },
  {
   "cell_type": "code",
   "execution_count": 2,
   "metadata": {},
   "outputs": [
    {
     "name": "stderr",
     "output_type": "stream",
     "text": [
      "Using TensorFlow backend.\n"
     ]
    }
   ],
   "source": [
    "import os\n",
    "import keras\n",
    "\n",
    "# 請嘗試設定 GPU：os.environ\n",
    "# 將 GPU 設定為 \"無\" (若有 GPU 且想開啟，可設為 \"0\")\n",
    "os.environ[\"CUDA_VISIBLE_DEVICES\"] = \"\""
   ]
  },
  {
   "cell_type": "code",
   "execution_count": 3,
   "metadata": {},
   "outputs": [],
   "source": [
    "#為了解決 model.fit 當掉問題\n",
    "import os\n",
    "os.environ[\"KMP_DUPLICATE_LIB_OK\"]=\"TRUE\""
   ]
  },
  {
   "cell_type": "code",
   "execution_count": 4,
   "metadata": {},
   "outputs": [],
   "source": [
    "train, test = keras.datasets.cifar10.load_data()"
   ]
  },
  {
   "cell_type": "markdown",
   "metadata": {},
   "source": [
    "## 作業1 \n",
    "請嘗試將 preproc_x 替換成以每筆資料的 min/max 進行標準化至 -1 ~ 1 間，再進行訓練"
   ]
  },
  {
   "cell_type": "code",
   "execution_count": 5,
   "metadata": {},
   "outputs": [],
   "source": [
    "## 資料前處理\n",
    "\"\"\"\n",
    "Your code here\n",
    "\"\"\"\n",
    "def preproc_x(x, flatten=True):\n",
    "    x = (x / 255 - 0.5)*2\n",
    "    if flatten:\n",
    "        x = x.reshape((len(x), -1))\n",
    "    return x\n",
    "\n",
    "def preproc_y(y, num_classes=10):\n",
    "    if y.shape[-1] == 1:\n",
    "        y = keras.utils.to_categorical(y, num_classes)\n",
    "    return y"
   ]
  },
  {
   "cell_type": "code",
   "execution_count": 6,
   "metadata": {},
   "outputs": [],
   "source": [
    "x_train, y_train = train\n",
    "x_test, y_test = test\n",
    "\n",
    "# Preproc the inputs\n",
    "x_train = preproc_x(x_train)\n",
    "x_test = preproc_x(x_test)\n",
    "\n",
    "# Preprc the outputs\n",
    "y_train = preproc_y(y_train)\n",
    "y_test = preproc_y(y_test)"
   ]
  },
  {
   "cell_type": "markdown",
   "metadata": {},
   "source": [
    "## 作業2 : 請嘗試將 mlp 疊更深 (e.g 5~10 層)，進行訓練後觀察 learning curve 的走勢"
   ]
  },
  {
   "cell_type": "code",
   "execution_count": 7,
   "metadata": {},
   "outputs": [
    {
     "name": "stdout",
     "output_type": "stream",
     "text": [
      "WARNING:tensorflow:From /Volumes/Data/Anaconda/anaconda3/envs/tensorflow2/lib/python3.7/site-packages/tensorflow/python/framework/op_def_library.py:263: colocate_with (from tensorflow.python.framework.ops) is deprecated and will be removed in a future version.\n",
      "Instructions for updating:\n",
      "Colocations handled automatically by placer.\n",
      "_________________________________________________________________\n",
      "Layer (type)                 Output Shape              Param #   \n",
      "=================================================================\n",
      "input_1 (InputLayer)         (None, 3072)              0         \n",
      "_________________________________________________________________\n",
      "hidden_layer1 (Dense)        (None, 256)               786688    \n",
      "_________________________________________________________________\n",
      "hidden_layer2 (Dense)        (None, 128)               32896     \n",
      "_________________________________________________________________\n",
      "hidden_layer3 (Dense)        (None, 64)                8256      \n",
      "_________________________________________________________________\n",
      "hidden_layer4 (Dense)        (None, 32)                2080      \n",
      "_________________________________________________________________\n",
      "hidden_layer5 (Dense)        (None, 16)                528       \n",
      "_________________________________________________________________\n",
      "output (Dense)               (None, 10)                170       \n",
      "=================================================================\n",
      "Total params: 830,618\n",
      "Trainable params: 830,618\n",
      "Non-trainable params: 0\n",
      "_________________________________________________________________\n"
     ]
    }
   ],
   "source": [
    "\"\"\"Code Here\n",
    "建立你的神經網路\n",
    "\"\"\"\n",
    "def build_mlp(input_shape, output_units=10, num_neurons=[256, 128, 64, 32, 16]):\n",
    "    input_layer = keras.layers.Input(input_shape)\n",
    "    \n",
    "    for i, n_units in enumerate(num_neurons):\n",
    "        if i == 0:\n",
    "            x = keras.layers.Dense(units=n_units, activation=\"relu\", name=\"hidden_layer\"+str(i+1))(input_layer)\n",
    "        else:\n",
    "            x = keras.layers.Dense(units=n_units, activation=\"relu\", name=\"hidden_layer\"+str(i+1))(x)\n",
    "    \n",
    "    out = keras.layers.Dense(units=output_units, activation=\"softmax\", name=\"output\")(x)\n",
    "    \n",
    "    model = keras.models.Model(inputs=[input_layer], outputs=[out])\n",
    "    return model\n",
    "\n",
    "model = build_mlp(input_shape=x_train.shape[1:])\n",
    "model.summary()"
   ]
  },
  {
   "cell_type": "code",
   "execution_count": 9,
   "metadata": {},
   "outputs": [],
   "source": [
    "## 超參數設定\n",
    "LEARNING_RATE = 0.001\n",
    "EPOCHS = 100\n",
    "BATCH_SIZE = 256"
   ]
  },
  {
   "cell_type": "code",
   "execution_count": 10,
   "metadata": {},
   "outputs": [],
   "source": [
    "optimizer = keras.optimizers.Adam(lr=LEARNING_RATE)\n",
    "model.compile(loss=\"categorical_crossentropy\", metrics=[\"accuracy\"], optimizer=optimizer)"
   ]
  },
  {
   "cell_type": "code",
   "execution_count": 11,
   "metadata": {},
   "outputs": [
    {
     "name": "stdout",
     "output_type": "stream",
     "text": [
      "WARNING:tensorflow:From /Volumes/Data/Anaconda/anaconda3/envs/tensorflow2/lib/python3.7/site-packages/tensorflow/python/ops/math_ops.py:3066: to_int32 (from tensorflow.python.ops.math_ops) is deprecated and will be removed in a future version.\n",
      "Instructions for updating:\n",
      "Use tf.cast instead.\n",
      "Train on 50000 samples, validate on 10000 samples\n",
      "Epoch 1/100\n",
      "50000/50000 [==============================] - 36s 722us/step - loss: 1.7878 - acc: 0.3710 - val_loss: 1.6445 - val_acc: 0.4232\n",
      "Epoch 2/100\n",
      "50000/50000 [==============================] - 28s 565us/step - loss: 1.5312 - acc: 0.4578 - val_loss: 1.5225 - val_acc: 0.4548\n",
      "Epoch 3/100\n",
      "50000/50000 [==============================] - 25s 503us/step - loss: 1.4132 - acc: 0.5008 - val_loss: 1.4728 - val_acc: 0.4851\n",
      "Epoch 4/100\n",
      "50000/50000 [==============================] - 24s 476us/step - loss: 1.3244 - acc: 0.5318 - val_loss: 1.4046 - val_acc: 0.5064\n",
      "Epoch 5/100\n",
      "50000/50000 [==============================] - 28s 566us/step - loss: 1.2439 - acc: 0.5598 - val_loss: 1.3869 - val_acc: 0.5174\n",
      "Epoch 6/100\n",
      "50000/50000 [==============================] - 43s 862us/step - loss: 1.1825 - acc: 0.5850 - val_loss: 1.3863 - val_acc: 0.5180\n",
      "Epoch 7/100\n",
      "50000/50000 [==============================] - 30s 598us/step - loss: 1.1188 - acc: 0.6046 - val_loss: 1.3771 - val_acc: 0.5228\n",
      "Epoch 8/100\n",
      "50000/50000 [==============================] - 24s 482us/step - loss: 1.0658 - acc: 0.6221 - val_loss: 1.3854 - val_acc: 0.5218\n",
      "Epoch 9/100\n",
      "50000/50000 [==============================] - 38s 761us/step - loss: 1.0062 - acc: 0.6437 - val_loss: 1.3986 - val_acc: 0.5256\n",
      "Epoch 10/100\n",
      "50000/50000 [==============================] - 29s 573us/step - loss: 0.9558 - acc: 0.6622 - val_loss: 1.3959 - val_acc: 0.5300\n",
      "Epoch 11/100\n",
      "50000/50000 [==============================] - 25s 497us/step - loss: 0.9040 - acc: 0.6782 - val_loss: 1.4687 - val_acc: 0.5248\n",
      "Epoch 12/100\n",
      "50000/50000 [==============================] - 25s 507us/step - loss: 0.8560 - acc: 0.6959 - val_loss: 1.5106 - val_acc: 0.5221\n",
      "Epoch 13/100\n",
      "50000/50000 [==============================] - 36s 716us/step - loss: 0.8150 - acc: 0.7117 - val_loss: 1.5085 - val_acc: 0.5302\n",
      "Epoch 14/100\n",
      "50000/50000 [==============================] - 29s 576us/step - loss: 0.7626 - acc: 0.7281 - val_loss: 1.5624 - val_acc: 0.5214\n",
      "Epoch 15/100\n",
      "50000/50000 [==============================] - 27s 536us/step - loss: 0.7350 - acc: 0.7398 - val_loss: 1.5823 - val_acc: 0.5287\n",
      "Epoch 16/100\n",
      "50000/50000 [==============================] - 29s 588us/step - loss: 0.6837 - acc: 0.7573 - val_loss: 1.7031 - val_acc: 0.5258\n",
      "Epoch 17/100\n",
      "50000/50000 [==============================] - 30s 600us/step - loss: 0.6500 - acc: 0.7692 - val_loss: 1.7128 - val_acc: 0.5217\n",
      "Epoch 18/100\n",
      "50000/50000 [==============================] - 30s 600us/step - loss: 0.6118 - acc: 0.7837 - val_loss: 1.7886 - val_acc: 0.5146\n",
      "Epoch 19/100\n",
      "50000/50000 [==============================] - 25s 509us/step - loss: 0.5850 - acc: 0.7929 - val_loss: 1.8010 - val_acc: 0.5213\n",
      "Epoch 20/100\n",
      "50000/50000 [==============================] - 22s 449us/step - loss: 0.5503 - acc: 0.8043 - val_loss: 1.9245 - val_acc: 0.5168\n",
      "Epoch 21/100\n",
      "50000/50000 [==============================] - 23s 461us/step - loss: 0.5270 - acc: 0.8120 - val_loss: 1.9973 - val_acc: 0.5148\n",
      "Epoch 22/100\n",
      "50000/50000 [==============================] - 24s 477us/step - loss: 0.4955 - acc: 0.8230 - val_loss: 2.0246 - val_acc: 0.5167\n",
      "Epoch 23/100\n",
      "50000/50000 [==============================] - 22s 438us/step - loss: 0.4640 - acc: 0.8372 - val_loss: 2.0684 - val_acc: 0.5136\n",
      "Epoch 24/100\n",
      "50000/50000 [==============================] - 22s 436us/step - loss: 0.4434 - acc: 0.8432 - val_loss: 2.1415 - val_acc: 0.5168\n",
      "Epoch 25/100\n",
      "50000/50000 [==============================] - 22s 442us/step - loss: 0.4292 - acc: 0.8477 - val_loss: 2.1975 - val_acc: 0.5143\n",
      "Epoch 26/100\n",
      "50000/50000 [==============================] - 22s 437us/step - loss: 0.4101 - acc: 0.8529 - val_loss: 2.2251 - val_acc: 0.5088\n",
      "Epoch 27/100\n",
      "50000/50000 [==============================] - 22s 441us/step - loss: 0.3885 - acc: 0.8641 - val_loss: 2.3132 - val_acc: 0.5108\n",
      "Epoch 28/100\n",
      "50000/50000 [==============================] - 22s 441us/step - loss: 0.3613 - acc: 0.8737 - val_loss: 2.4005 - val_acc: 0.5079\n",
      "Epoch 29/100\n",
      "50000/50000 [==============================] - 22s 443us/step - loss: 0.3615 - acc: 0.8734 - val_loss: 2.4152 - val_acc: 0.5135\n",
      "Epoch 30/100\n",
      "50000/50000 [==============================] - 22s 446us/step - loss: 0.3433 - acc: 0.8789 - val_loss: 2.4073 - val_acc: 0.5128\n",
      "Epoch 31/100\n",
      "50000/50000 [==============================] - 22s 444us/step - loss: 0.3180 - acc: 0.8875 - val_loss: 2.5634 - val_acc: 0.5066\n",
      "Epoch 32/100\n",
      "50000/50000 [==============================] - 23s 453us/step - loss: 0.3000 - acc: 0.8957 - val_loss: 2.6560 - val_acc: 0.5059\n",
      "Epoch 33/100\n",
      "50000/50000 [==============================] - 24s 480us/step - loss: 0.3015 - acc: 0.8935 - val_loss: 2.7137 - val_acc: 0.5064\n",
      "Epoch 34/100\n",
      "50000/50000 [==============================] - 22s 446us/step - loss: 0.2881 - acc: 0.8991 - val_loss: 2.7414 - val_acc: 0.5081\n",
      "Epoch 35/100\n",
      "50000/50000 [==============================] - 22s 446us/step - loss: 0.2768 - acc: 0.9033 - val_loss: 2.8273 - val_acc: 0.5111\n",
      "Epoch 36/100\n",
      "50000/50000 [==============================] - 22s 448us/step - loss: 0.2703 - acc: 0.9056 - val_loss: 2.8735 - val_acc: 0.5082\n",
      "Epoch 37/100\n",
      "50000/50000 [==============================] - 22s 444us/step - loss: 0.2521 - acc: 0.9115 - val_loss: 2.8990 - val_acc: 0.5132\n",
      "Epoch 38/100\n",
      "50000/50000 [==============================] - 22s 445us/step - loss: 0.2595 - acc: 0.9094 - val_loss: 2.9312 - val_acc: 0.5140\n",
      "Epoch 39/100\n",
      "50000/50000 [==============================] - 22s 447us/step - loss: 0.2369 - acc: 0.9169 - val_loss: 2.9894 - val_acc: 0.5130\n",
      "Epoch 40/100\n",
      "50000/50000 [==============================] - 23s 452us/step - loss: 0.2298 - acc: 0.9198 - val_loss: 2.9867 - val_acc: 0.5071\n",
      "Epoch 41/100\n",
      "50000/50000 [==============================] - 23s 450us/step - loss: 0.2325 - acc: 0.9192 - val_loss: 3.1378 - val_acc: 0.5106\n",
      "Epoch 42/100\n",
      "50000/50000 [==============================] - 22s 450us/step - loss: 0.2429 - acc: 0.9155 - val_loss: 3.1371 - val_acc: 0.5069\n",
      "Epoch 43/100\n",
      "50000/50000 [==============================] - 22s 449us/step - loss: 0.2156 - acc: 0.9247 - val_loss: 3.1227 - val_acc: 0.5096\n",
      "Epoch 44/100\n",
      "50000/50000 [==============================] - 22s 446us/step - loss: 0.1885 - acc: 0.9341 - val_loss: 3.2701 - val_acc: 0.5110\n",
      "Epoch 45/100\n",
      "50000/50000 [==============================] - 22s 449us/step - loss: 0.1899 - acc: 0.9342 - val_loss: 3.2818 - val_acc: 0.5067\n",
      "Epoch 46/100\n",
      "50000/50000 [==============================] - 29s 585us/step - loss: 0.1985 - acc: 0.9313 - val_loss: 3.3064 - val_acc: 0.4970\n",
      "Epoch 47/100\n",
      "50000/50000 [==============================] - 24s 476us/step - loss: 0.2021 - acc: 0.9309 - val_loss: 3.3074 - val_acc: 0.5069\n",
      "Epoch 48/100\n",
      "50000/50000 [==============================] - 22s 445us/step - loss: 0.1987 - acc: 0.9313 - val_loss: 3.3790 - val_acc: 0.5092\n",
      "Epoch 49/100\n",
      "50000/50000 [==============================] - 22s 444us/step - loss: 0.1715 - acc: 0.9413 - val_loss: 3.4163 - val_acc: 0.5096\n",
      "Epoch 50/100\n",
      "50000/50000 [==============================] - 23s 451us/step - loss: 0.1877 - acc: 0.9342 - val_loss: 3.4048 - val_acc: 0.5088\n",
      "Epoch 51/100\n",
      "50000/50000 [==============================] - 23s 453us/step - loss: 0.1784 - acc: 0.9375 - val_loss: 3.4509 - val_acc: 0.5131\n",
      "Epoch 52/100\n",
      "50000/50000 [==============================] - 22s 448us/step - loss: 0.1593 - acc: 0.9456 - val_loss: 3.6482 - val_acc: 0.4971\n",
      "Epoch 53/100\n",
      "50000/50000 [==============================] - 22s 448us/step - loss: 0.1827 - acc: 0.9370 - val_loss: 3.5507 - val_acc: 0.5091\n",
      "Epoch 54/100\n",
      "50000/50000 [==============================] - 23s 464us/step - loss: 0.1632 - acc: 0.9444 - val_loss: 3.5520 - val_acc: 0.5033\n",
      "Epoch 55/100\n",
      "50000/50000 [==============================] - 22s 449us/step - loss: 0.1554 - acc: 0.9469 - val_loss: 3.5924 - val_acc: 0.5138\n",
      "Epoch 56/100\n",
      "50000/50000 [==============================] - 22s 444us/step - loss: 0.1559 - acc: 0.9461 - val_loss: 3.6608 - val_acc: 0.5025\n"
     ]
    },
    {
     "name": "stdout",
     "output_type": "stream",
     "text": [
      "Epoch 57/100\n",
      "50000/50000 [==============================] - 23s 452us/step - loss: 0.1915 - acc: 0.9355 - val_loss: 3.5356 - val_acc: 0.4948\n",
      "Epoch 58/100\n",
      "50000/50000 [==============================] - 22s 446us/step - loss: 0.1478 - acc: 0.9490 - val_loss: 3.6474 - val_acc: 0.5104\n",
      "Epoch 59/100\n",
      "50000/50000 [==============================] - 22s 447us/step - loss: 0.1327 - acc: 0.9544 - val_loss: 3.8189 - val_acc: 0.5034\n",
      "Epoch 60/100\n",
      "50000/50000 [==============================] - 22s 447us/step - loss: 0.1640 - acc: 0.9445 - val_loss: 3.7157 - val_acc: 0.5058\n",
      "Epoch 61/100\n",
      "50000/50000 [==============================] - 26s 515us/step - loss: 0.1437 - acc: 0.9512 - val_loss: 3.7646 - val_acc: 0.5042\n",
      "Epoch 62/100\n",
      "50000/50000 [==============================] - 24s 474us/step - loss: 0.1523 - acc: 0.9472 - val_loss: 3.7457 - val_acc: 0.5072\n",
      "Epoch 63/100\n",
      "50000/50000 [==============================] - 22s 447us/step - loss: 0.1559 - acc: 0.9456 - val_loss: 3.7362 - val_acc: 0.5067\n",
      "Epoch 64/100\n",
      "50000/50000 [==============================] - 23s 451us/step - loss: 0.1227 - acc: 0.9577 - val_loss: 3.7730 - val_acc: 0.5066\n",
      "Epoch 65/100\n",
      "50000/50000 [==============================] - 23s 452us/step - loss: 0.1174 - acc: 0.9590 - val_loss: 3.8524 - val_acc: 0.5056\n",
      "Epoch 66/100\n",
      "50000/50000 [==============================] - 37s 737us/step - loss: 0.1625 - acc: 0.9449 - val_loss: 3.7528 - val_acc: 0.5056\n",
      "Epoch 67/100\n",
      "50000/50000 [==============================] - 24s 470us/step - loss: 0.1140 - acc: 0.9610 - val_loss: 3.8071 - val_acc: 0.5026\n",
      "Epoch 68/100\n",
      "50000/50000 [==============================] - 23s 455us/step - loss: 0.1374 - acc: 0.9537 - val_loss: 3.8115 - val_acc: 0.5036\n",
      "Epoch 69/100\n",
      "50000/50000 [==============================] - 23s 456us/step - loss: 0.1598 - acc: 0.9454 - val_loss: 3.8672 - val_acc: 0.5017\n",
      "Epoch 70/100\n",
      "50000/50000 [==============================] - 24s 473us/step - loss: 0.1085 - acc: 0.9637 - val_loss: 3.9745 - val_acc: 0.5102\n",
      "Epoch 71/100\n",
      "50000/50000 [==============================] - 23s 457us/step - loss: 0.1078 - acc: 0.9628 - val_loss: 3.9670 - val_acc: 0.5062\n",
      "Epoch 72/100\n",
      "50000/50000 [==============================] - 23s 470us/step - loss: 0.1280 - acc: 0.9562 - val_loss: 3.9100 - val_acc: 0.5107\n",
      "Epoch 73/100\n",
      "50000/50000 [==============================] - 23s 458us/step - loss: 0.1362 - acc: 0.9548 - val_loss: 3.9286 - val_acc: 0.5002\n",
      "Epoch 74/100\n",
      "50000/50000 [==============================] - 23s 462us/step - loss: 0.1261 - acc: 0.9577 - val_loss: 4.0206 - val_acc: 0.4991\n",
      "Epoch 75/100\n",
      "50000/50000 [==============================] - 23s 461us/step - loss: 0.1452 - acc: 0.9510 - val_loss: 3.9512 - val_acc: 0.5031\n",
      "Epoch 76/100\n",
      "50000/50000 [==============================] - 23s 459us/step - loss: 0.1104 - acc: 0.9621 - val_loss: 3.9902 - val_acc: 0.5009\n",
      "Epoch 77/100\n",
      "50000/50000 [==============================] - 23s 465us/step - loss: 0.1014 - acc: 0.9657 - val_loss: 4.0656 - val_acc: 0.4991\n",
      "Epoch 78/100\n",
      "50000/50000 [==============================] - 23s 465us/step - loss: 0.1196 - acc: 0.9596 - val_loss: 4.1052 - val_acc: 0.5013\n",
      "Epoch 79/100\n",
      "50000/50000 [==============================] - 23s 467us/step - loss: 0.1273 - acc: 0.9559 - val_loss: 4.0486 - val_acc: 0.5070\n",
      "Epoch 80/100\n",
      "50000/50000 [==============================] - 23s 463us/step - loss: 0.1153 - acc: 0.9612 - val_loss: 4.0768 - val_acc: 0.5041\n",
      "Epoch 81/100\n",
      "50000/50000 [==============================] - 23s 463us/step - loss: 0.1240 - acc: 0.9573 - val_loss: 3.9723 - val_acc: 0.5048\n",
      "Epoch 82/100\n",
      "50000/50000 [==============================] - 23s 468us/step - loss: 0.1133 - acc: 0.9620 - val_loss: 4.0956 - val_acc: 0.5038\n",
      "Epoch 83/100\n",
      "50000/50000 [==============================] - 23s 466us/step - loss: 0.1042 - acc: 0.9647 - val_loss: 3.9724 - val_acc: 0.5042\n",
      "Epoch 84/100\n",
      "50000/50000 [==============================] - 23s 467us/step - loss: 0.0900 - acc: 0.9700 - val_loss: 4.2017 - val_acc: 0.5057\n",
      "Epoch 85/100\n",
      "50000/50000 [==============================] - 23s 467us/step - loss: 0.1139 - acc: 0.9614 - val_loss: 4.2350 - val_acc: 0.5089\n",
      "Epoch 86/100\n",
      "50000/50000 [==============================] - 25s 490us/step - loss: 0.1359 - acc: 0.9556 - val_loss: 4.0881 - val_acc: 0.5067\n",
      "Epoch 87/100\n",
      "50000/50000 [==============================] - 25s 503us/step - loss: 0.1028 - acc: 0.9647 - val_loss: 4.1480 - val_acc: 0.5018\n",
      "Epoch 88/100\n",
      "50000/50000 [==============================] - 24s 488us/step - loss: 0.0820 - acc: 0.9732 - val_loss: 4.1489 - val_acc: 0.5084\n",
      "Epoch 89/100\n",
      "50000/50000 [==============================] - 23s 468us/step - loss: 0.1004 - acc: 0.9666 - val_loss: 4.1805 - val_acc: 0.5106\n",
      "Epoch 90/100\n",
      "50000/50000 [==============================] - 23s 468us/step - loss: 0.1159 - acc: 0.9618 - val_loss: 4.2221 - val_acc: 0.5034\n",
      "Epoch 91/100\n",
      "50000/50000 [==============================] - 24s 471us/step - loss: 0.0822 - acc: 0.9720 - val_loss: 4.2313 - val_acc: 0.5105\n",
      "Epoch 92/100\n",
      "50000/50000 [==============================] - 24s 476us/step - loss: 0.1012 - acc: 0.9659 - val_loss: 4.2323 - val_acc: 0.5075\n",
      "Epoch 93/100\n",
      "50000/50000 [==============================] - 23s 469us/step - loss: 0.1209 - acc: 0.9592 - val_loss: 4.1721 - val_acc: 0.5101\n",
      "Epoch 94/100\n",
      "50000/50000 [==============================] - 24s 471us/step - loss: 0.1026 - acc: 0.9667 - val_loss: 4.2723 - val_acc: 0.5104\n",
      "Epoch 95/100\n",
      "50000/50000 [==============================] - 24s 472us/step - loss: 0.1053 - acc: 0.9653 - val_loss: 4.1659 - val_acc: 0.5069\n",
      "Epoch 96/100\n",
      "50000/50000 [==============================] - 24s 471us/step - loss: 0.1021 - acc: 0.9660 - val_loss: 4.2723 - val_acc: 0.5120\n",
      "Epoch 97/100\n",
      "50000/50000 [==============================] - 24s 478us/step - loss: 0.0801 - acc: 0.9730 - val_loss: 4.2451 - val_acc: 0.5040\n",
      "Epoch 98/100\n",
      "50000/50000 [==============================] - 28s 552us/step - loss: 0.0690 - acc: 0.9767 - val_loss: 4.3584 - val_acc: 0.5074\n",
      "Epoch 99/100\n",
      "50000/50000 [==============================] - 26s 528us/step - loss: 0.0716 - acc: 0.9755 - val_loss: 4.2962 - val_acc: 0.5073\n",
      "Epoch 100/100\n",
      "50000/50000 [==============================] - 24s 477us/step - loss: 0.1345 - acc: 0.9578 - val_loss: 4.1742 - val_acc: 0.5027\n"
     ]
    },
    {
     "data": {
      "text/plain": [
       "<keras.callbacks.History at 0x6409b9860>"
      ]
     },
     "execution_count": 11,
     "metadata": {},
     "output_type": "execute_result"
    }
   ],
   "source": [
    "model.fit(x_train, y_train, \n",
    "          epochs=EPOCHS, \n",
    "          batch_size=BATCH_SIZE, \n",
    "          validation_data=(x_test, y_test), \n",
    "          shuffle=True)"
   ]
  },
  {
   "cell_type": "code",
   "execution_count": 12,
   "metadata": {},
   "outputs": [
    {
     "data": {
      "text/plain": [
       "<Figure size 640x480 with 1 Axes>"
      ]
     },
     "metadata": {},
     "output_type": "display_data"
    },
    {
     "data": {
      "text/plain": [
       "<Figure size 640x480 with 1 Axes>"
      ]
     },
     "metadata": {},
     "output_type": "display_data"
    }
   ],
   "source": [
    "import matplotlib.pyplot as plt\n",
    "\n",
    "\n",
    "train_loss = model.history.history[\"loss\"]\n",
    "valid_loss = model.history.history[\"val_loss\"]\n",
    "\n",
    "train_acc = model.history.history[\"acc\"]\n",
    "valid_acc = model.history.history[\"val_acc\"]\n",
    "\n",
    "plt.plot(range(len(train_loss)), train_loss, label=\"train loss\")\n",
    "plt.plot(range(len(valid_loss)), valid_loss, label=\"valid loss\")\n",
    "plt.legend()\n",
    "plt.title(\"Loss\")\n",
    "plt.show()\n",
    "\n",
    "plt.plot(range(len(train_acc)), train_acc, label=\"train accuracy\")\n",
    "plt.plot(range(len(valid_acc)), valid_acc, label=\"valid accuracy\")\n",
    "plt.legend()\n",
    "plt.title(\"Accuracy\")\n",
    "plt.show()"
   ]
  },
  {
   "cell_type": "code",
   "execution_count": null,
   "metadata": {},
   "outputs": [],
   "source": []
  }
 ],
 "metadata": {
  "kernelspec": {
   "display_name": "Python 3",
   "language": "python",
   "name": "python3"
  },
  "language_info": {
   "codemirror_mode": {
    "name": "ipython",
    "version": 3
   },
   "file_extension": ".py",
   "mimetype": "text/x-python",
   "name": "python",
   "nbconvert_exporter": "python",
   "pygments_lexer": "ipython3",
   "version": "3.7.3"
  }
 },
 "nbformat": 4,
 "nbformat_minor": 2
}
