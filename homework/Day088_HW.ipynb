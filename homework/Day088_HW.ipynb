{
 "cells": [
  {
   "cell_type": "markdown",
   "metadata": {},
   "source": [
    "## Work\n",
    "1. 請嘗試寫一個 callback 用來記錄各類別在訓練過程中，對驗證集的 True Positive 與 True Negative"
   ]
  },
  {
   "cell_type": "code",
   "execution_count": 2,
   "metadata": {},
   "outputs": [
    {
     "name": "stderr",
     "output_type": "stream",
     "text": [
      "Using TensorFlow backend.\n"
     ]
    }
   ],
   "source": [
    "import os\n",
    "import keras\n",
    "\n",
    "# Disable GPU\n",
    "os.environ[\"CUDA_VISIBLE_DEVICES\"] = \"\""
   ]
  },
  {
   "cell_type": "code",
   "execution_count": 3,
   "metadata": {},
   "outputs": [],
   "source": [
    "#為了解決 model.fit 當掉問題\n",
    "import os\n",
    "os.environ[\"KMP_DUPLICATE_LIB_OK\"]=\"TRUE\""
   ]
  },
  {
   "cell_type": "code",
   "execution_count": 4,
   "metadata": {},
   "outputs": [],
   "source": [
    "train, test = keras.datasets.cifar10.load_data()"
   ]
  },
  {
   "cell_type": "code",
   "execution_count": 5,
   "metadata": {},
   "outputs": [],
   "source": [
    "## 資料前處理\n",
    "def preproc_x(x, flatten=True):\n",
    "    x = x / 255.\n",
    "    if flatten:\n",
    "        x = x.reshape((len(x), -1))\n",
    "    return x\n",
    "\n",
    "def preproc_y(y, num_classes=10):\n",
    "    if y.shape[-1] == 1:\n",
    "        y = keras.utils.to_categorical(y, num_classes)\n",
    "    return y    "
   ]
  },
  {
   "cell_type": "code",
   "execution_count": 6,
   "metadata": {},
   "outputs": [],
   "source": [
    "x_train, y_train = train\n",
    "x_test, y_test = test\n",
    "\n",
    "# Preproc the inputs\n",
    "x_train = preproc_x(x_train)\n",
    "x_test = preproc_x(x_test)\n",
    "\n",
    "# Preprc the outputs\n",
    "y_train = preproc_y(y_train)\n",
    "y_test = preproc_y(y_test)"
   ]
  },
  {
   "cell_type": "code",
   "execution_count": 7,
   "metadata": {},
   "outputs": [],
   "source": [
    "from keras.layers import BatchNormalization\n",
    "\"\"\"Code Here\n",
    "建立你的神經網路\n",
    "\"\"\"\n",
    "def build_mlp(input_shape, output_units=10, num_neurons=[256, 128,64]):\n",
    "    input_layer = keras.layers.Input(input_shape)\n",
    "    for i, n_units in enumerate(num_neurons):\n",
    "        if i == 0:\n",
    "            x = keras.layers.Dense(units=n_units, \n",
    "                                   activation=\"relu\", \n",
    "                                   name=\"hidden_layer\"+str(i+1))(input_layer)\n",
    "            x = BatchNormalization()(x)\n",
    "        else:\n",
    "            x = keras.layers.Dense(units=n_units, \n",
    "                                   activation=\"relu\", \n",
    "                                   name=\"hidden_layer\"+str(i+1))(x)\n",
    "            x = BatchNormalization()(x)\n",
    "    \n",
    "    out = keras.layers.Dense(units=output_units, activation=\"softmax\", name=\"output\")(x)\n",
    "    \n",
    "    model = keras.models.Model(inputs=[input_layer], outputs=[out])\n",
    "    return model"
   ]
  },
  {
   "cell_type": "code",
   "execution_count": 8,
   "metadata": {},
   "outputs": [],
   "source": [
    "## 超參數設定\n",
    "LEARNING_RATE = 1e-3\n",
    "EPOCHS = 25\n",
    "BATCH_SIZE = 1024\n",
    "MOMENTUM = 0.95"
   ]
  },
  {
   "cell_type": "code",
   "execution_count": 11,
   "metadata": {},
   "outputs": [],
   "source": [
    "# 載入 Callbacks\n",
    "from keras.callbacks import Callback\n",
    "\n",
    "# Record_fp_tp\n",
    "class Record_tp_tn(Callback):\n",
    "    \"\"\"Code Here\n",
    "    撰寫一個紀錄 ture positive 與 true negative 數量的 callbacks    \n",
    "    \"\"\"\n",
    "    def on_train_begin(self, epoch, logs = {}):\n",
    "        logs = logs or {}\n",
    "        record_items = [\"val_auc\", \"val_f1sc\", \"val_fp\", \"val_fn\", \"val_tp\", \"val_tn\"]\n",
    "        for i in record_items:\n",
    "            if i not in self.params['metrics']:\n",
    "                self.params['metrics'].append(i)\n",
    "    \n",
    "    def on_epoch_end(self, epoch, logs = {}, thres=0.5):\n",
    "        logs = logs or {}\n",
    "        y_true = self.validation_data[1].argmax(axis = 1)\n",
    "        y_pred = self.model.predict(self.validation_data[0])\n",
    "        y_pred = (y_pred[:, 1] >= thres) * 1\n",
    "        \n",
    "        val_tp = sum(y_true*y_pred)\n",
    "        val_tn = sum((y_true==0) & (y_pred==0))\n",
    "        \n",
    "        logs[\"val_tp\"] = val_tp\n",
    "        logs[\"val_tn\"] = val_tn\n",
    "        \n",
    "rec_tptn = Record_tp_tn()"
   ]
  },
  {
   "cell_type": "code",
   "execution_count": 12,
   "metadata": {
    "scrolled": true
   },
   "outputs": [
    {
     "name": "stdout",
     "output_type": "stream",
     "text": [
      "_________________________________________________________________\n",
      "Layer (type)                 Output Shape              Param #   \n",
      "=================================================================\n",
      "input_2 (InputLayer)         (None, 3072)              0         \n",
      "_________________________________________________________________\n",
      "hidden_layer1 (Dense)        (None, 256)               786688    \n",
      "_________________________________________________________________\n",
      "batch_normalization_4 (Batch (None, 256)               1024      \n",
      "_________________________________________________________________\n",
      "hidden_layer2 (Dense)        (None, 128)               32896     \n",
      "_________________________________________________________________\n",
      "batch_normalization_5 (Batch (None, 128)               512       \n",
      "_________________________________________________________________\n",
      "hidden_layer3 (Dense)        (None, 64)                8256      \n",
      "_________________________________________________________________\n",
      "batch_normalization_6 (Batch (None, 64)                256       \n",
      "_________________________________________________________________\n",
      "output (Dense)               (None, 10)                650       \n",
      "=================================================================\n",
      "Total params: 830,282\n",
      "Trainable params: 829,386\n",
      "Non-trainable params: 896\n",
      "_________________________________________________________________\n",
      "Train on 50000 samples, validate on 10000 samples\n",
      "Epoch 1/25\n",
      "50000/50000 [==============================] - 61s 1ms/step - loss: 2.2475 - acc: 0.2497 - val_loss: 2.0933 - val_acc: 0.2968\n",
      "Epoch 2/25\n",
      "50000/50000 [==============================] - 24s 484us/step - loss: 1.8130 - acc: 0.3632 - val_loss: 1.8418 - val_acc: 0.3550\n",
      "Epoch 3/25\n",
      "50000/50000 [==============================] - 18s 359us/step - loss: 1.6955 - acc: 0.4053 - val_loss: 1.7465 - val_acc: 0.3871\n",
      "Epoch 4/25\n",
      "50000/50000 [==============================] - 15s 304us/step - loss: 1.6306 - acc: 0.4281 - val_loss: 1.6834 - val_acc: 0.4074\n",
      "Epoch 5/25\n",
      "50000/50000 [==============================] - 17s 346us/step - loss: 1.5827 - acc: 0.4451 - val_loss: 1.6690 - val_acc: 0.4139\n",
      "Epoch 6/25\n",
      "50000/50000 [==============================] - 15s 308us/step - loss: 1.5431 - acc: 0.4586 - val_loss: 1.6227 - val_acc: 0.4279\n",
      "Epoch 7/25\n",
      "50000/50000 [==============================] - 15s 306us/step - loss: 1.5116 - acc: 0.4718 - val_loss: 1.5981 - val_acc: 0.4379\n",
      "Epoch 8/25\n",
      "50000/50000 [==============================] - 15s 301us/step - loss: 1.4817 - acc: 0.4817 - val_loss: 1.5870 - val_acc: 0.4386\n",
      "Epoch 9/25\n",
      "50000/50000 [==============================] - 17s 339us/step - loss: 1.4552 - acc: 0.4904 - val_loss: 1.5741 - val_acc: 0.4490\n",
      "Epoch 10/25\n",
      "50000/50000 [==============================] - 17s 340us/step - loss: 1.4291 - acc: 0.4982 - val_loss: 1.5567 - val_acc: 0.4509\n",
      "Epoch 11/25\n",
      "50000/50000 [==============================] - 34s 674us/step - loss: 1.4069 - acc: 0.5077 - val_loss: 1.5493 - val_acc: 0.4517\n",
      "Epoch 12/25\n",
      "50000/50000 [==============================] - 18s 370us/step - loss: 1.3859 - acc: 0.5131 - val_loss: 1.5516 - val_acc: 0.4503\n",
      "Epoch 13/25\n",
      "50000/50000 [==============================] - 20s 396us/step - loss: 1.3658 - acc: 0.5217 - val_loss: 1.5329 - val_acc: 0.4579\n",
      "Epoch 14/25\n",
      "50000/50000 [==============================] - 21s 417us/step - loss: 1.3459 - acc: 0.5279 - val_loss: 1.5171 - val_acc: 0.4600\n",
      "Epoch 15/25\n",
      "50000/50000 [==============================] - 19s 384us/step - loss: 1.3271 - acc: 0.5356 - val_loss: 1.5117 - val_acc: 0.4643\n",
      "Epoch 16/25\n",
      "50000/50000 [==============================] - 18s 357us/step - loss: 1.3096 - acc: 0.5424 - val_loss: 1.5149 - val_acc: 0.4671\n",
      "Epoch 17/25\n",
      "50000/50000 [==============================] - 33s 656us/step - loss: 1.2947 - acc: 0.5461 - val_loss: 1.5036 - val_acc: 0.4635\n",
      "Epoch 18/25\n",
      "50000/50000 [==============================] - 27s 532us/step - loss: 1.2762 - acc: 0.5540 - val_loss: 1.5012 - val_acc: 0.4718\n",
      "Epoch 19/25\n",
      "50000/50000 [==============================] - 17s 334us/step - loss: 1.2620 - acc: 0.5585 - val_loss: 1.4866 - val_acc: 0.4782\n",
      "Epoch 20/25\n",
      "50000/50000 [==============================] - 15s 302us/step - loss: 1.2446 - acc: 0.5654 - val_loss: 1.4870 - val_acc: 0.4787\n",
      "Epoch 21/25\n",
      "50000/50000 [==============================] - 15s 306us/step - loss: 1.2289 - acc: 0.5713 - val_loss: 1.4812 - val_acc: 0.4790\n",
      "Epoch 22/25\n",
      "50000/50000 [==============================] - 15s 304us/step - loss: 1.2141 - acc: 0.5768 - val_loss: 1.4802 - val_acc: 0.4766\n",
      "Epoch 23/25\n",
      "50000/50000 [==============================] - 15s 307us/step - loss: 1.1992 - acc: 0.5828 - val_loss: 1.4835 - val_acc: 0.4807\n",
      "Epoch 24/25\n",
      "50000/50000 [==============================] - 15s 304us/step - loss: 1.1837 - acc: 0.5885 - val_loss: 1.4836 - val_acc: 0.4775\n",
      "Epoch 25/25\n",
      "50000/50000 [==============================] - 15s 306us/step - loss: 1.1701 - acc: 0.5937 - val_loss: 1.4890 - val_acc: 0.4788\n"
     ]
    }
   ],
   "source": [
    "model = build_mlp(input_shape=x_train.shape[1:])\n",
    "model.summary()\n",
    "optimizer = keras.optimizers.SGD(lr=LEARNING_RATE, nesterov=True, momentum=MOMENTUM)\n",
    "model.compile(loss=\"categorical_crossentropy\", metrics=[\"accuracy\"], optimizer=optimizer)\n",
    "\n",
    "\"\"\"Code Here\n",
    "將 callbacks 放入模型訓練流程中\n",
    "\"\"\"\n",
    "model.fit(x_train, y_train, \n",
    "          epochs=EPOCHS, \n",
    "          batch_size=BATCH_SIZE, \n",
    "          validation_data=(x_test, y_test), \n",
    "          shuffle=True,\n",
    "          callbacks=[rec_tptn]\n",
    "         )\n",
    "\n",
    "# Collect results\n",
    "train_loss = model.history.history[\"loss\"]\n",
    "valid_loss = model.history.history[\"val_loss\"]\n",
    "train_acc = model.history.history[\"acc\"]\n",
    "valid_acc = model.history.history[\"val_acc\"]\n",
    "\n",
    "\"\"\"Code Here\n",
    "將 tp/tn 從訓練完的模型中取出\n",
    "\"\"\"\n",
    "valid_tp = model.history.history[\"val_tp\"]\n",
    "valid_tn = model.history.history[\"val_tn\"]"
   ]
  },
  {
   "cell_type": "code",
   "execution_count": 13,
   "metadata": {},
   "outputs": [
    {
     "data": {
      "image/png": "[encoded data removed]",
      "text/plain": [
       "<Figure size 432x288 with 1 Axes>"
      ]
     },
     "metadata": {
      "needs_background": "light"
     },
     "output_type": "display_data"
    },
    {
     "data": {
      "image/png": "[encoded data removed]",
      "text/plain": [
       "<Figure size 432x288 with 1 Axes>"
      ]
     },
     "metadata": {
      "needs_background": "light"
     },
     "output_type": "display_data"
    },
    {
     "data": {
      "image/png": "[encoded data removed]",
      "text/plain": [
       "<Figure size 432x288 with 1 Axes>"
      ]
     },
     "metadata": {
      "needs_background": "light"
     },
     "output_type": "display_data"
    }
   ],
   "source": [
    "import matplotlib.pyplot as plt\n",
    "%matplotlib inline\n",
    "\n",
    "plt.plot(range(len(train_loss)), train_loss, label=\"train loss\")\n",
    "plt.plot(range(len(valid_loss)), valid_loss, label=\"valid loss\")\n",
    "plt.legend()\n",
    "plt.title(\"Loss\")\n",
    "plt.show()\n",
    "\n",
    "plt.plot(range(len(train_acc)), train_acc, label=\"train accuracy\")\n",
    "plt.plot(range(len(valid_acc)), valid_acc, label=\"valid accuracy\")\n",
    "plt.legend()\n",
    "plt.title(\"Accuracy\")\n",
    "plt.show()\n",
    "\n",
    "plt.plot(range(len(valid_tp)), valid_tp, label=\"valid tp\", color=\"navy\")\n",
    "plt.plot(range(len(valid_tn)), valid_tn, label=\"valid tn\", color=\"red\")\n",
    "plt.legend()\n",
    "plt.title(\"True positives and True Negatives\")\n",
    "plt.show()\n"
   ]
  },
  {
   "cell_type": "code",
   "execution_count": null,
   "metadata": {},
   "outputs": [],
   "source": []
  }
 ],
 "metadata": {
  "kernelspec": {
   "display_name": "Python 3",
   "language": "python",
   "name": "python3"
  },
  "language_info": {
   "codemirror_mode": {
    "name": "ipython",
    "version": 3
   },
   "file_extension": ".py",
   "mimetype": "text/x-python",
   "name": "python",
   "nbconvert_exporter": "python",
   "pygments_lexer": "ipython3",
   "version": "3.7.3"
  }
 },
 "nbformat": 4,
 "nbformat_minor": 2
}
