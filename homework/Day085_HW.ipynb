{
 "cells": [
  {
   "cell_type": "markdown",
   "metadata": {},
   "source": [
    "## Work\n",
    "1. 試改變 monitor \"Validation Accuracy\" 並比較結果\n",
    "2. 調整 earlystop 的等待次數至 10, 25 並比較結果"
   ]
  },
  {
   "cell_type": "code",
   "execution_count": 1,
   "metadata": {},
   "outputs": [
    {
     "name": "stderr",
     "output_type": "stream",
     "text": [
      "Using TensorFlow backend.\n"
     ]
    }
   ],
   "source": [
    "import os\n",
    "import keras\n",
    "import matplotlib.pyplot as plt\n",
    "%matplotlib inline\n",
    "\n",
    "\n",
    "# Disable GPU\n",
    "os.environ[\"CUDA_VISIBLE_DEVICES\"] = \"\""
   ]
  },
  {
   "cell_type": "code",
   "execution_count": 2,
   "metadata": {},
   "outputs": [],
   "source": [
    "#為了解決 model.fit 當掉問題\n",
    "import os\n",
    "os.environ[\"KMP_DUPLICATE_LIB_OK\"]=\"TRUE\""
   ]
  },
  {
   "cell_type": "code",
   "execution_count": 3,
   "metadata": {},
   "outputs": [],
   "source": [
    "train, test = keras.datasets.cifar10.load_data()"
   ]
  },
  {
   "cell_type": "code",
   "execution_count": 4,
   "metadata": {},
   "outputs": [],
   "source": [
    "## 資料前處理\n",
    "def preproc_x(x, flatten=True):\n",
    "    x = x / 255.\n",
    "    if flatten:\n",
    "        x = x.reshape((len(x), -1))\n",
    "    return x\n",
    "\n",
    "def preproc_y(y, num_classes=10):\n",
    "    if y.shape[-1] == 1:\n",
    "        y = keras.utils.to_categorical(y, num_classes)\n",
    "    return y    "
   ]
  },
  {
   "cell_type": "code",
   "execution_count": 5,
   "metadata": {},
   "outputs": [],
   "source": [
    "x_train, y_train = train\n",
    "x_test, y_test = test\n",
    "\n",
    "# Preproc the inputs\n",
    "x_train = preproc_x(x_train)\n",
    "x_test = preproc_x(x_test)\n",
    "\n",
    "# Preprc the outputs\n",
    "y_train = preproc_y(y_train)\n",
    "y_test = preproc_y(y_test)"
   ]
  },
  {
   "cell_type": "code",
   "execution_count": 24,
   "metadata": {},
   "outputs": [],
   "source": [
    "from keras.layers import BatchNormalization\n",
    "\"\"\"Code Here\n",
    "建立你的神經網路\n",
    "\"\"\"\n",
    "def build_mlp(input_shape, output_units=10, num_neurons=[256, 128, 64]):\n",
    "    input_layer = keras.layers.Input(input_shape)\n",
    "    \n",
    "    for i, n_units in enumerate(num_neurons):\n",
    "        if i == 0:\n",
    "            x = keras.layers.Dense(units=n_units, \n",
    "                                   activation=\"relu\", \n",
    "                                   name=\"hidden_layer\"+str(i+1))(input_layer)\n",
    "            x = BatchNormalization()(x)\n",
    "        else:\n",
    "            x = keras.layers.Dense(units=n_units, \n",
    "                                   activation=\"relu\", \n",
    "                                   name=\"hidden_layer\"+str(i+1))(x)\n",
    "            x = BatchNormalization()(x)\n",
    "    \n",
    "    out = keras.layers.Dense(units=output_units, activation=\"softmax\", name=\"output\")(x)\n",
    "    \n",
    "    model = keras.models.Model(inputs=[input_layer], outputs=[out])\n",
    "    return model"
   ]
  },
  {
   "cell_type": "code",
   "execution_count": 25,
   "metadata": {},
   "outputs": [],
   "source": [
    "\"\"\"Code Here\n",
    "設定超參數\n",
    "\"\"\"\n",
    "## 超參數設定\n",
    "LEARNING_RATE = 1e-3\n",
    "EPOCHS = 50\n",
    "BATCH_SIZE = 1024\n",
    "MOMENTUM = 0.95\n",
    "STOP = [10,25]"
   ]
  },
  {
   "cell_type": "code",
   "execution_count": 29,
   "metadata": {},
   "outputs": [],
   "source": [
    "# 載入 Callbacks\n",
    "\"\"\"Code Here\n",
    "設定 callbacks: Earlystop\n",
    "\"\"\"\n",
    "from keras.callbacks import EarlyStopping\n",
    "\n",
    "def earlystopCB(monitor_item='val_loss', num_stop=5, isverbose=1):\n",
    "    earlystop = EarlyStopping(monitor=monitor_item, \n",
    "                              patience=num_stop, \n",
    "                              verbose=isverbose\n",
    "                              )\n",
    "    return earlystop"
   ]
  },
  {
   "cell_type": "code",
   "execution_count": null,
   "metadata": {},
   "outputs": [
    {
     "name": "stdout",
     "output_type": "stream",
     "text": [
      "_________________________________________________________________\n",
      "Layer (type)                 Output Shape              Param #   \n",
      "=================================================================\n",
      "input_6 (InputLayer)         (None, 3072)              0         \n",
      "_________________________________________________________________\n",
      "hidden_layer1 (Dense)        (None, 256)               786688    \n",
      "_________________________________________________________________\n",
      "batch_normalization_7 (Batch (None, 256)               1024      \n",
      "_________________________________________________________________\n",
      "hidden_layer2 (Dense)        (None, 128)               32896     \n",
      "_________________________________________________________________\n",
      "batch_normalization_8 (Batch (None, 128)               512       \n",
      "_________________________________________________________________\n",
      "hidden_layer3 (Dense)        (None, 64)                8256      \n",
      "_________________________________________________________________\n",
      "batch_normalization_9 (Batch (None, 64)                256       \n",
      "_________________________________________________________________\n",
      "output (Dense)               (None, 10)                650       \n",
      "=================================================================\n",
      "Total params: 830,282\n",
      "Trainable params: 829,386\n",
      "Non-trainable params: 896\n",
      "_________________________________________________________________\n",
      "WARNING:tensorflow:From /Volumes/Data/Anaconda/anaconda3/envs/tensorflow2/lib/python3.7/site-packages/tensorflow/python/ops/math_ops.py:3066: to_int32 (from tensorflow.python.ops.math_ops) is deprecated and will be removed in a future version.\n",
      "Instructions for updating:\n",
      "Use tf.cast instead.\n",
      "Train on 50000 samples, validate on 10000 samples\n",
      "Epoch 1/50\n",
      "50000/50000 [==============================] - 37s 732us/step - loss: 2.3031 - acc: 0.2458 - val_loss: 2.3164 - val_acc: 0.2707\n",
      "Epoch 2/50\n",
      "50000/50000 [==============================] - 16s 320us/step - loss: 1.8193 - acc: 0.3629 - val_loss: 1.9077 - val_acc: 0.3496\n",
      "Epoch 3/50\n",
      "50000/50000 [==============================] - 17s 334us/step - loss: 1.6973 - acc: 0.4046 - val_loss: 1.7585 - val_acc: 0.3804\n",
      "Epoch 4/50\n",
      "50000/50000 [==============================] - 16s 322us/step - loss: 1.6306 - acc: 0.4280 - val_loss: 1.6773 - val_acc: 0.4085\n",
      "Epoch 5/50\n",
      "50000/50000 [==============================] - 16s 322us/step - loss: 1.5807 - acc: 0.4460 - val_loss: 1.6416 - val_acc: 0.4251\n",
      "Epoch 6/50\n",
      " 1024/50000 [..............................] - ETA: 14s - loss: 1.5187 - acc: 0.4688"
     ]
    },
    {
     "name": "stderr",
     "output_type": "stream",
     "text": [
      "/Volumes/Data/Anaconda/anaconda3/envs/tensorflow2/lib/python3.7/site-packages/keras/callbacks.py:122: UserWarning: Method on_batch_end() is slow compared to the batch update (0.341339). Check your callbacks.\n",
      "  % delta_t_median)\n"
     ]
    },
    {
     "name": "stdout",
     "output_type": "stream",
     "text": [
      "50000/50000 [==============================] - 16s 328us/step - loss: 1.5420 - acc: 0.4594 - val_loss: 1.6070 - val_acc: 0.4333\n",
      "Epoch 7/50\n",
      "50000/50000 [==============================] - 16s 319us/step - loss: 1.5105 - acc: 0.4692 - val_loss: 1.5843 - val_acc: 0.4406\n",
      "Epoch 8/50\n",
      "50000/50000 [==============================] - 16s 319us/step - loss: 1.4813 - acc: 0.4801 - val_loss: 1.5724 - val_acc: 0.4446\n",
      "Epoch 9/50\n",
      "50000/50000 [==============================] - 16s 317us/step - loss: 1.4531 - acc: 0.4909 - val_loss: 1.5591 - val_acc: 0.4512\n",
      "Epoch 10/50\n",
      "50000/50000 [==============================] - 16s 325us/step - loss: 1.4293 - acc: 0.4989 - val_loss: 1.5355 - val_acc: 0.4594\n",
      "Epoch 11/50\n",
      "50000/50000 [==============================] - 16s 321us/step - loss: 1.4074 - acc: 0.5052 - val_loss: 1.5331 - val_acc: 0.4579\n",
      "Epoch 12/50\n",
      "50000/50000 [==============================] - 16s 319us/step - loss: 1.3845 - acc: 0.5153 - val_loss: 1.5151 - val_acc: 0.4664\n",
      "Epoch 13/50\n",
      "50000/50000 [==============================] - 17s 331us/step - loss: 1.3652 - acc: 0.5215 - val_loss: 1.5076 - val_acc: 0.4691\n",
      "Epoch 14/50\n",
      "50000/50000 [==============================] - 18s 352us/step - loss: 1.3462 - acc: 0.5280 - val_loss: 1.5214 - val_acc: 0.4643\n",
      "Epoch 15/50\n",
      "50000/50000 [==============================] - 21s 420us/step - loss: 1.3286 - acc: 0.5335 - val_loss: 1.4936 - val_acc: 0.4756\n",
      "Epoch 16/50\n",
      "50000/50000 [==============================] - 32s 643us/step - loss: 1.3107 - acc: 0.5402 - val_loss: 1.4947 - val_acc: 0.4763\n",
      "Epoch 17/50\n",
      "50000/50000 [==============================] - 26s 516us/step - loss: 1.2961 - acc: 0.5446 - val_loss: 1.4836 - val_acc: 0.4756\n",
      "Epoch 18/50\n",
      "50000/50000 [==============================] - 16s 327us/step - loss: 1.2787 - acc: 0.5522 - val_loss: 1.4879 - val_acc: 0.4734\n",
      "Epoch 19/50\n",
      "50000/50000 [==============================] - 15s 309us/step - loss: 1.2623 - acc: 0.5585 - val_loss: 1.4808 - val_acc: 0.4755\n",
      "Epoch 20/50\n",
      "50000/50000 [==============================] - 15s 310us/step - loss: 1.2483 - acc: 0.5634 - val_loss: 1.4668 - val_acc: 0.4796\n",
      "Epoch 21/50\n",
      "50000/50000 [==============================] - 15s 307us/step - loss: 1.2327 - acc: 0.5700 - val_loss: 1.4613 - val_acc: 0.4822\n",
      "Epoch 22/50\n",
      "50000/50000 [==============================] - 15s 309us/step - loss: 1.2182 - acc: 0.5736 - val_loss: 1.4731 - val_acc: 0.4799\n",
      "Epoch 23/50\n",
      "50000/50000 [==============================] - 16s 317us/step - loss: 1.2026 - acc: 0.5811 - val_loss: 1.4681 - val_acc: 0.4830\n",
      "Epoch 24/50\n",
      "50000/50000 [==============================] - 16s 310us/step - loss: 1.1871 - acc: 0.5865 - val_loss: 1.4812 - val_acc: 0.4752\n",
      "Epoch 25/50\n",
      "50000/50000 [==============================] - 16s 312us/step - loss: 1.1765 - acc: 0.5898 - val_loss: 1.4602 - val_acc: 0.4842\n",
      "Epoch 26/50\n",
      "50000/50000 [==============================] - 15s 304us/step - loss: 1.1614 - acc: 0.5957 - val_loss: 1.4693 - val_acc: 0.4825\n",
      "Epoch 27/50\n",
      "50000/50000 [==============================] - 15s 308us/step - loss: 1.1462 - acc: 0.6013 - val_loss: 1.4707 - val_acc: 0.4837\n",
      "Epoch 28/50\n",
      "50000/50000 [==============================] - 15s 307us/step - loss: 1.1324 - acc: 0.6070 - val_loss: 1.4664 - val_acc: 0.4821\n",
      "Epoch 29/50\n",
      "50000/50000 [==============================] - 15s 310us/step - loss: 1.1178 - acc: 0.6127 - val_loss: 1.4602 - val_acc: 0.4880\n",
      "Epoch 30/50\n",
      "50000/50000 [==============================] - 21s 422us/step - loss: 1.1047 - acc: 0.6175 - val_loss: 1.4553 - val_acc: 0.4887\n",
      "Epoch 31/50\n",
      " 4096/50000 [=>............................] - ETA: 31s - loss: 1.0689 - acc: 0.6235"
     ]
    }
   ],
   "source": [
    "results = {}\n",
    "\"\"\"Code Here\n",
    "撰寫你的訓練流程並將結果用 dictionary 紀錄\n",
    "\"\"\"\n",
    "for stop in STOP:\n",
    "    model = build_mlp(input_shape=x_train.shape[1:])\n",
    "    model.summary()\n",
    "    optimizer = keras.optimizers.SGD(lr=LEARNING_RATE, nesterov=True, momentum=MOMENTUM)\n",
    "    earlystop = earlystopCB(monitor_item='val_acc', num_stop=stop)\n",
    "    model.compile(loss=\"categorical_crossentropy\", metrics=[\"accuracy\"], optimizer=optimizer)\n",
    "    \n",
    "    model.fit(x_train, y_train, \n",
    "              epochs=EPOCHS, \n",
    "              batch_size=BATCH_SIZE, \n",
    "              validation_data=(x_test, y_test), \n",
    "              shuffle=True,\n",
    "              callbacks=[earlystop]\n",
    "             )\n",
    "    \n",
    "    # Collect results\n",
    "    train_loss = model.history.history[\"loss\"]\n",
    "    valid_loss = model.history.history[\"val_loss\"]\n",
    "    train_acc = model.history.history[\"acc\"]\n",
    "    valid_acc = model.history.history[\"val_acc\"]\n",
    "    \n",
    "    exp_name_tag = \"acc-stop:%s\" % (stop)\n",
    "    results[exp_name_tag] = {'train-loss': train_loss,\n",
    "                                 'valid-loss': valid_loss,\n",
    "                                 'train-acc': train_acc,\n",
    "                                 'valid-acc': valid_acc}"
   ]
  },
  {
   "cell_type": "code",
   "execution_count": null,
   "metadata": {},
   "outputs": [],
   "source": [
    "\"\"\"Code Here\n",
    "將結果繪出\n",
    "\"\"\"\n",
    "color_bar = [\"r\", \"g\", \"b\", \"y\", \"m\", \"k\"]\n",
    "\n",
    "plt.figure(figsize=(8,6))\n",
    "for i, cond in enumerate(results.keys()):\n",
    "    plt.plot(range(len(results[cond]['train-loss'])),results[cond]['train-loss'], '-', label=f\"train: {cond}\", color=color_bar[i])\n",
    "    plt.plot(range(len(results[cond]['valid-loss'])),results[cond]['valid-loss'], '--', label=f\"valid: {cond}\", color=color_bar[i])\n",
    "plt.title(\"Loss\")\n",
    "plt.ylim([0, 5])\n",
    "plt.legend()\n",
    "plt.show()\n",
    "\n",
    "plt.figure(figsize=(8,6))\n",
    "for i, cond in enumerate(results.keys()):\n",
    "    plt.plot(range(len(results[cond]['train-acc'])),results[cond]['train-acc'], '-', label=f\"train: {cond}\", color=color_bar[i])\n",
    "    plt.plot(range(len(results[cond]['valid-acc'])),results[cond]['valid-acc'], '--', label=f\"valid: {cond}\", color=color_bar[i])\n",
    "plt.title(\"Accuracy\")\n",
    "plt.legend()\n",
    "plt.show()"
   ]
  },
  {
   "cell_type": "code",
   "execution_count": null,
   "metadata": {},
   "outputs": [],
   "source": []
  }
 ],
 "metadata": {
  "kernelspec": {
   "display_name": "Python 3",
   "language": "python",
   "name": "python3"
  },
  "language_info": {
   "codemirror_mode": {
    "name": "ipython",
    "version": 3
   },
   "file_extension": ".py",
   "mimetype": "text/x-python",
   "name": "python",
   "nbconvert_exporter": "python",
   "pygments_lexer": "ipython3",
   "version": "3.7.3"
  }
 },
 "nbformat": 4,
 "nbformat_minor": 2
}
